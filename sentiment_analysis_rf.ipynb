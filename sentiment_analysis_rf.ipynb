{
 "cells": [
  {
   "cell_type": "code",
   "execution_count": 1,
   "id": "88f372fd",
   "metadata": {},
   "outputs": [
    {
     "name": "stdout",
     "output_type": "stream",
     "text": [
      "1505241903574523916 2022-03-19 20:56:50 +0300 <JoshuaZeidner> @sabri44220662 @ninjasniperpon dont forget no Feminism in Russia either\n",
      "1503796267700400128 2022-03-15 21:12:24 +0300 <cry_edge> @RodericDay Like a Zelensky Jew, and Ukraine itself is a democratic state with gay rights and feminists. Meanwhile, as Putin kills civilians, reads Ilyin and destroys democracy. Of course, there is no feminism in Russia either, and of the Nazis in Russia there are Milchakov and Tesak.\n",
      "1503758066969366537 2022-03-15 18:40:36 +0300 <itsthesvn> @kkyulmin feminism in Russia in November for English literature essay?\n",
      "1502454250114367488 2022-03-12 04:19:42 +0300 <AnikseOfficial> I am confused by how social feminism is kind of vague at this point on where it stands?  Liberal and radical feminist pages usually go in their usual direction but social feminism in Russia is ??????\n",
      "1501121653744492548 2022-03-08 12:04:26 +0300 <AboIishNFTs> Since there's almost no feminism in Russia, I guess cops find it easier to aim for female protesters to beat up and arrest cuz they're weaker and can't fight back.\n",
      "1499033757629693953 2022-03-02 17:47:53 +0300 <BCPoliSci> On activism and feminism in Russia. Featuring our esteemed Professor, Janet Johnson.    https://t.co/CBaYRw94Vo\n",
      "1497028258084306945 2022-02-25 04:58:44 +0300 <DrowningEnbie> @Angxl_Morozova I don't mean that!  I mean...I do not learn many good things about feminism in russia\n",
      "1491124874328387586 2022-02-08 22:00:48 +0300 <CloudDoor1> #clouddoor  #SoftwareStartups Elizaveta Koroleva - Feminism in Russia: the mistakes of the communists and sexism today -  https://t.co/kC4qxho5sg\n",
      "1475631925347893252 2021-12-28 03:57:21 +0300 <dudu_aoliveira> leitura muito interessante sobre a esquerda russa pós-soviética. o futuro da esquerda passa muito pelo feminismo, em todos os lugares: “(…) it was only in the 2010s that political feminism in Russia made a quantum leap, capturing the attention of wide swathes of young people.”\n",
      "1449004093935128580 2021-10-15 16:27:51 +0300 <KDRose1> There is no feminism in #Russia. #Putin #Kremlin #America #EU #pipelines #energycrisis  Putin Says American Reporter Is Too ‘Beautiful’ to Understand His Very Clever Point  https://t.co/952RlulB4R\n",
      "1447125639010689029 2021-10-10 12:03:33 +0300 <TestosteroneCiv> @galt_the @N44275953 Low T feminism in Russia since 1917 - Low fertility\n",
      "1438560830098923525 2021-09-16 20:50:03 +0300 <ElenasModelsTW> Russian girls about feminism, gender roles and splitting bills Feminism in Russia is considered as a very controversial phenomenon, many girls and women are reluctant to call themselves feminists. Let's find out why! Watch:  https://t.co/ANF6jCWGvS  #FeminismRussia #ElenasModels  https://t.co/NqVy9OYOb5\n",
      "1435905157313830913 2021-09-09 12:57:21 +0300 <GSC_ECREA> Galina Miazhevich presents \"Media, (mis)trust and everyday #feminism in Russia\". This paper problematizes the cultural politics of everyday feminism in light of rapidly changing #media environment, using the overlooked case of #Russia.  https://t.co/5zscnT0E83\n",
      "1433290384881369090 2021-09-02 07:47:11 +0300 <mj_inglis> I just finished one of the most difficult projects I’ve ever worked on- a 27 page paper on the rise of feminism in Russia. My god, this took FOREVER to finish. And now it’s done and I can close the 106 tabs I have open in my browser. And pour myself a shot. 🥃\n",
      "1418398443429666822 2021-07-23 05:31:56 +0300 <SharanskyWailer> I cannot think of a better reason or justification for feminism in Russia than this photo.  https://t.co/YYZiYFVMww\n",
      "1414599174063104002 2021-07-12 17:54:59 +0300 <silversfound> The Silvers Foundation warmly congratulates @juliaioffe for her Silvers Grant in support of Motherland, a family memoir and chronicle of feminism in Russia since the Bolshevik Revolution. @eccobooks @DAMendelsohnNYC\n",
      "1412733355708329990 2021-07-07 14:20:53 +0300 <CEE_Feminisms> Workshop Engaging Struggles Across the Global South and East (July 26-7) includes talks by Maria Mayerchyk &amp; Olga Plakhotnik \"Queer feminist artivism in Ukraine\" and Vanya Solovey @soloveyv_ \"Doing feminist research on feminism in Russia.\"  https://t.co/jUacQOWTMG\n",
      "1401851429606805504 2021-06-07 13:40:00 +0300 <wanning0> @zombiejerusalem Radical feminism is THE feminism in Russia. Russian antis are all also very visibly radfems or terfs. Why that is I don't know but it is what it is.\n",
      "1392533711267123201 2021-05-12 20:34:43 +0300 <YablokoParty> The Yabloko Party University will host a lecture on feminism in Russia by Alyona Popova.  https://t.co/FYafD8j7yN  https://t.co/jzVYTWQyxC\n",
      "1372220808937025545 2021-03-17 19:18:30 +0300 <cinnamonmotel> Hi! I'm working on a project about attitude to feminism in Russia and the USA. If you're from one of these countries, please, fill out this survey 🙏  Link for the USA 🇺🇸:  https://t.co/HJneRGaagC Link for Russia 🇷🇺:  https://t.co/RpQD5CJWeF  RT to help me find more respondents ❤\n",
      "1347824511228522498 2021-01-09 11:36:19 +0300 <oranjimint> @IvyEmblem Im sad cause my 1 friend says that we don't need Feminism in Russia :\")\n",
      "1337346136311554048 2020-12-11 13:39:00 +0300 <SHE_Community_> Feminism in Russia:  #MoscowFemFest #MeToo    https://t.co/JB7oGD2wo8\n",
      "1324744843357261824 2020-11-06 19:05:57 +0300 <kennaninstitute> Dmitry Kozlov and Ella Rossman, two of the speakers on our panel on #feminism in #Russia from earlier this week, also contributed to this publication \"Feminist Samizdat: 40 Years Later.\"  Check it out 🔽  https://t.co/4llPzRQO43\n",
      "1324743345680183298 2020-11-06 19:00:00 +0300 <kennaninstitute> [ICYMI] We are pleased to share that you can watch a recording (in English or Russian) or browse select quotes from our recent event on #feminism in #Russia! More links to follow 🔽 in the thread! @sakharov_talks @IzaTabaro @HSE_eng @clarkpolisci  CLICK 🔽  https://t.co/9wnbGV0asW\n",
      "1324711637677494274 2020-11-06 16:54:01 +0300 <Wilson_MHI> #ICYMI: check out this event from the @kennaninstitute to learn about the past, present, and future of #feminism in #Russia:  https://t.co/G1UzlL1Rz7\n",
      "1323291277274816513 2020-11-02 18:50:00 +0300 <TheWilsonCenter> LIVE IN TEN MINUTES: \"Feminism in Russia: From Soviet Samizdat to Online Activism\" from @kennaninstitute.  Please register at this link to watch this event:  https://t.co/Z7ilQxFFyX\n",
      "1323263594784456705 2020-11-02 17:00:00 +0300 <kennaninstitute> [TODAY 11am EST] Join us for our event on #Feminism in #Russia with @sakharov_talks!  You will need to RSVP &amp; receive a webinar link in order to participate. Email us at kennan@wilsoncenter.org if you need help with this!  @IzaTabaro @HSE_eng @clarkpolisci  https://t.co/9wnbGV0asW\n",
      "1323249752197115907 2020-11-02 16:05:00 +0300 <ThinkTankLink> 🗓️Today ⏰11:00 a.m.: @TheWilsonCenter - Feminism in Russia: From Soviet Samizdat to Online Activism #ThinkTank #ThinkTankEvents   https://t.co/E1aeLsKNfY\n",
      "1322946507440451584 2020-11-01 20:00:01 +0300 <kennaninstitute> [TOMORROW @ 11am EST] Join us for a webinar on #Feminism in #Russia with @sakharov_talks! We will hear from experts Dmitry Kozlov, Ella Rossman, &amp; Valerie Sperling, moderated by @IzaTabaro! @HSE_eng @clarkpolisci   You must RSVP 🔽 in order to participate:  https://t.co/9wnbGV0asW\n",
      "1322268986038505472 2020-10-30 23:07:47 +0300 <TheWilsonCenter> EVENT: \"Feminism in Russia: From Soviet Samizdat to Online Activism\" 🗓️ Date: Monday, November 2 🕒 Time: 11 a.m. EST 📍Location: webinar Hosted by: @kennaninstitute  🔗RSVP:  https://t.co/Z7ilQxFFyX\n",
      "1322236831581175808 2020-10-30 21:00:01 +0300 <kennaninstitute> [REMINDER Nov. 2 @ 11am EST] Tune in to our upcoming webinar on #Feminism in #Russia with @sakharov_talks! We will hear from Dmitry Kozlov, Ella Rossman, &amp; Valerie Sperling! @IzaTabaro @HSE_eng @clarkpolisci   You must RSVP 🔽 in order to participate:  https://t.co/9wnbGV0asW\n",
      "1322144033590906880 2020-10-30 14:51:16 +0300 <BEARRTweets> Fascinating talk by @Amie_FR on legal developments in #WomensRights and changing attitudes towards #Feminism  in Russia in recent years\n",
      "1321770324967460864 2020-10-29 14:06:17 +0300 <UCLSSEES> It was wonderful to host #SSEES alumna @Amie_FR at the Post-Soviet Press Group yesterday. We were able to record her talk on women's rights, domestic violence and #feminism in Russia. Thank you to @Ben_H_Noble for hosting and Amie for such an engaging talk  https://t.co/hkS7LcS8QQ\n",
      "1321552794374098950 2020-10-28 23:41:54 +0300 <kennaninstitute> If you like this piece, you may also be interested in RSVP'ing for our upcoming event on #feminism in #Russia!  @sakharov_talks @IzaTabaro @HSE_eng @clarkpolisci   CLICK 👇 for more details  https://t.co/9wnbGVhLRw\n",
      "1321496961292193792 2020-10-28 20:00:02 +0300 <kennaninstitute> [REMINDER Nov. 2 @ 11am EST] Tune in to our upcoming webinar on #Feminism in #Russia with @sakharov_talks! We will hear from Dmitry Kozlov, Ella Rossman, &amp; Valerie Sperling! @IzaTabaro @HSE_eng @clarkpolisci   You must RSVP 🔽 in order to participate:  https://t.co/9wnbGV0asW\n",
      "1320757079896895488 2020-10-26 19:00:00 +0300 <kennaninstitute> [WEBINAR Nov. 2 @ 11am EST] Join us for an upcoming webinar on #Feminism in #Russia with @sakharov_talks! We will be joined by Dmitry Kozlov, Ella Rossman, &amp; Valerie Sperling! @IzaTabaro @HSE_eng @clarkpolisci   You must RSVP 🔽 in order to participate:  https://t.co/9wnbGVhLRw\n",
      "1319748804791369729 2020-10-24 00:13:29 +0300 <kjsturr> Feminism in Russia: From Soviet Samizdat to Online Activism | Wilson Center  https://t.co/OotueofeM3\n",
      "1317228225035108353 2020-10-17 01:17:36 +0300 <MokhtarGhazzawi> Tweet of appreciation to #PussyRiot. Vlad needs some feminism in Russia.\n",
      "1308390133146812416 2020-09-22 15:58:11 +0300 <Openly_Biased> Interested in #feminism in #Russia? I highly recommend this online book presentation. Young feminists just published an edited volume of all the feminist self-published texts, incl. both dissident texts from the 80s and contemporary ones #herstory  https://t.co/BwEoQzsPcV  https://t.co/aBdtgpLa6O\n"
     ]
    },
    {
     "name": "stdout",
     "output_type": "stream",
     "text": [
      "1306691742239019008 2020-09-17 23:29:23 +0300 <wikipediachain> Feminism in Russia &gt; Constitution of Russia &gt; Economic history of the Russian Federation &gt; Moscow International Business Centre &gt; List of tallest buildings in Chicago &gt; Lake Michigan &gt; Cherry Capital Airport &gt; Livingston County Spencer J. Hardy Airport &gt; ICAO airport code &gt; Niue\n",
      "1306684195557855233 2020-09-17 22:59:23 +0300 <wikipediachain> Joan Smalls &gt; Mayowa Nicholas &gt; Lameka Fox &gt; Interview (magazine) &gt; Coca-Cola (3) &gt; Henry Geldzahler (film) &gt; Thirteen Most Wanted Men &gt; Sleep (1964 film) &gt; The Nude Restaurant &gt; Suicide (Purple Jumping Man) &gt; Bike Boy &gt; Valerie Solanas &gt; Second-wave feminism &gt; Feminism in Russia\n",
      "1302507530569084928 2020-09-06 10:22:49 +0300 <GrishinMax> Uncompromising feminism in Russia.\n",
      "1302136624294309890 2020-09-05 09:48:58 +0300 <KellenKellen4> @lady_presidents I see. Hopefully that idea can be removed soon and Russia changes.  I'm interested in feminism in Russia.\n",
      "1302126623525941248 2020-09-05 09:09:14 +0300 <lady_presidents> @KellenKellen4 It is very difficult to deal with feminism in Russia. We have a lot of smart and good girls who understand this topic, promote and support. But many of them are judged unfairly, and little girls are told of their weaknesses and responsibilities from childhood.\n",
      "1297033668792332288 2020-08-22 07:51:39 +0300 <koganew> @DonStinson12 @ProjectLincoln @MaryEMcGlynn for example, we have a bunch of this intersectionalists, which destroyed real feminism in russia and misplaced it by american table of privilegues. in a country with GIANT migrant violence rate.  they even cyberbully for such things as blackface, although there never were black\n",
      "1289386853561507840 2020-08-01 05:25:56 +0300 <ohwhatawaytogo> Man the Wikipedia article for “Feminism in Russia” specifically the soviet section is something else  Half of the notes are either “citation needed” or “more reliable source needed”  It also strangely labels Solzhenitsyn a “CIA propagandist” which I mean yeah he was\n",
      "1289286216584556544 2020-07-31 22:46:02 +0300 <TheNewClassicGA> @Iast3Ietters @JesseKellyDC There’s a reason why you don’t see feminism in Russia, Africa, and most of Asia.\n",
      "1287136793545105409 2020-07-26 00:25:00 +0300 <bizlet7> @mehmetalipasha This is the world of pussy hyperinflation due to feminism. In Russia there is no way she would be considered anything above average.\n",
      "1285956700655235077 2020-07-22 18:15:44 +0300 <ClarkUniversity> Yesterday @clarkpolisci Prof. Valerie Sperling served on a panel, \"Feminism in Russia,” as part of an online conference on The Status of Women in Russian Society sponsored by the @kennaninstitute. #feminism #Russia  https://t.co/3GeVIhzrz6\n",
      "1285553595589550086 2020-07-21 15:33:56 +0300 <proflauradean> Up bright and early for a panel on \"Feminism in Russia\" at my first online zoom conference on The Status of Women in Russian Society sponsored by the @kennaninstitute! #feminism #Russia ♀️🇷🇺  https://t.co/TvEk4Hrak3\n",
      "1284672617534889985 2020-07-19 05:13:14 +0300 <Chican3ry> @LaitoChan Are you telling me that Russia Today is GCF now? That someone publishing essays saying that trans is a danger to children in Russia Today is helpful to feminism in Russia?\n",
      "1282083997787586560 2020-07-12 01:46:59 +0300 <HetmanLitewski> @DackStevon You are wrong feminism in Russia was mainstream before in West\n",
      "1281128083966263297 2020-07-09 10:28:32 +0300 <PoeBelom> @AlessandraAster We barely have feminism in Russia. What I need is to know that I can protect myself. You say parroting, I call it utilizing make intimidation tactics.\n",
      "1275132403854475265 2020-06-22 21:23:50 +0300 <EilishHart> “All the political cases are equal, but feminism in Russia is still not considered ‘serious politics.’”  https://t.co/I9ryn28BO6 @calvertjournal\n",
      "1268112173307441152 2020-06-03 12:27:57 +0300 <PaulGoble1> ‘The Chief Achievement of Feminism in Russia? It isn’t Dead’ Activists Say  https://t.co/bi2474E5UL\n",
      "1236199656247504896 2020-03-07 10:59:00 +0300 <russiabeyond> The history of #feminism in #Russia is more than a century old, but not everyone believes it exists today in the country. What’s happening with one of the most controversial civic movements? #InternationalWomensDay  https://t.co/e7PuauCJ61\n",
      "1235848427486896128 2020-03-06 11:43:20 +0300 <indycoons> @_zerez_ There is no feminism in Russia happily. We don't want puppet ministers or presidents like in Europe. Being a president of Russia is too dangerous and too difficult. In fact not every man is able to be a Russian president.  Only someone from KGB like Putin.\n",
      "1233523596770840577 2020-02-29 01:45:17 +0300 <everydaycritic2> #russianfeminism #feminisminrussia #feminismRU note to myself: read it later\n",
      "1223826373300518914 2020-02-02 07:31:59 +0300 <TessEractica> @JochenML Oh gosh golly now you've got me scratching my head. 😂   Reminds me of Lenin's wife. After decades of revolutionary feminism in Russia, she declares that a woman's role in the revolution is to cook dinner, do the laundry, and take care of the kids.\n",
      "1220086052381253632 2020-01-22 23:49:17 +0300 <lilislilit> Oh! I have an EXCELLENT idea now, a post about #feminism in Russia, about safety, taxis and other.. services. What do...#medium, #patreon or twitter. What do you think, @yandextaxi ? What would you like more? I will do it for free either way.\n",
      "1213548036976189446 2020-01-04 22:49:33 +0300 <ramendik> @StepnoiVeter @walterneff7 @BlanchardPhD All of LGBT is firmly seen as Western influence. Some anti-trans feminism in Russia appears to be an attempt to get traction on women's issues like domestic violence while NOT being seen as Western influence.\n",
      "1211436970213330946 2019-12-30 03:00:55 +0300 <strezeva> @romig_carole @LisaBritton Not necessarily. Feminism in Russia, for example, is all about empowering women to be educated and powerful in careers, but also feminine and in touch with arts of hearth: cooking, crocheting, knitting.....\n",
      "1198344145208827905 2019-11-23 23:54:43 +0300 <lochlaith> We drink vodka and then we watch porn –that's #feminism in Russia.  All kudos goes to brilliant @Daniel_Sloss – huge thanks for a blast of a show tonight in Moscow 🖤\n",
      "1182959092060561408 2019-10-12 13:00:00 +0300 <WAVE_europe> New wave of feminism in Russia started trending on social media, fighting strict beauty standards with #AllIsFineWithMe.  https://t.co/8KiNa642jf #endGBV #endVAW\n",
      "1178639837886402560 2019-09-30 14:56:50 +0300 <Hromadske> An actor as a symbol of solidarity in Moscow’s protests, the arrest of an indigenous spiritual leader, domestic violence against children and Maria Alyokhina’s reflections on feminism in Russia – all this in this week's newsletter by @novaya_gazeta   https://t.co/gQLv1EIeqH\n",
      "1176209306951143424 2019-09-23 21:58:46 +0300 <PoppyTheorist> If you haven’t read Nadya’s Wikipedia entry, definitely check it out. Really interesting stuff; she’s been through some messed up shit fighting for feminism in Russia.  https://t.co/hf1hCDxhJT\n",
      "1174402998811992071 2019-09-18 22:21:08 +0300 <OB4EKvaba647LR5> In the USA, a woman has never been president. At the same time... Why is feminism in Russia a pampering of urban crazy women, but not a fashionable trend? Russia has the first place in the number of women leaders (matriarchy):   https://t.co/NSBC8GVBQt  https://t.co/Iih6o7OSRX\n",
      "1172642060383506438 2019-09-14 01:43:48 +0300 <annedebreuils> I just literally saw a conversation that went like this A: we don’t need feminism in Russia B: what about the domestic violence problem? A: what does this have to do with feminism?\n",
      "1151398206300991490 2019-07-17 10:48:18 +0300 <skateparken> @SlatkiNuklearni @doomcock Also you're not aware that feminism in Russia and other Slavic majority countries did start pretty early, even as early as the 1700s, and carried through to the revolutions. (For example the Communists let women vote, even though elections were pointless shams.)\n",
      "1143167605433200641 2019-06-24 17:42:50 +0300 <_s1gure> feminism in russia in a nutshell, oh wait x)\n",
      "1142864062415560706 2019-06-23 21:36:40 +0300 <AntonBoym> Increadable level of hate and anti #feminism  in Russia reflected in @CocaCola commercial  :(  So pity for such #CocaCola ads  #КокаКола глумится над уровнем ненависти и отношением к армии в России  #news #Today  https://t.co/uTENLXu4PO\n",
      "1137038497255178240 2019-06-07 19:47:57 +0300 <OfmanDaniel> Next, we reported on the state of Feminism in Russia. It’s not as accepted as perhaps it is in the West (this is a huge understatement) but there are some super active feminists who are fighting for gender equality, each in their own way.  https://t.co/34O5lnSZD9\n",
      "1136026053196034048 2019-06-05 00:44:52 +0300 <valeria_wants> @b_h_payne @EmilyCouchUK Haha, it’s so good, isn’t it? She (the main character) is my absolute role model &lt;3 Also feminism in Russia!\n",
      "1124302313693302785 2019-05-03 16:18:54 +0300 <rlndvchr> Bleak prospects for feminism in Russia  https://t.co/kHXzRLhwTu\n",
      "1118509113334554625 2019-04-17 16:38:48 +0300 <OfmanDaniel> Hi @nixelpixel, I'm a producer with @pritheworld. I want to set up an interview with you about feminism in Russia. Feel free to DM me here or email me at daniel . ofman @ bbc . co . uk for more info.\n",
      "1116890925849096192 2019-04-13 05:28:42 +0300 <OlgaRonsini> Feminism in Russia: 18 months of paid maternity leave, universal and chip childcare, earlier retirement for women. Women are expected to care about their appearance.  Feminism in US: Fat is beautiful 🤢\n",
      "1112583344926195713 2019-04-01 08:11:54 +0300 <Daria_Locher> so update on russia’s lack of feminism.... in Russia there's this movement called \"равноправие\" (equal rights) which is feminism under a gender-neutral term. so that’s why when they hear \"feminism\" they think \"women above men\"...\n",
      "1111516957487050752 2019-03-29 09:34:28 +0300 <my_dead_bones> @lizaledwards 5.1)Feminism in Russia? Read about the history of Russia after the Second World War. Our women nowadays (!) Work in the railway depot, where they can even carry heavy wheels (!) For trains. FOR TRAINS! (Yes, Russia is SO brutal.)\n"
     ]
    },
    {
     "name": "stdout",
     "output_type": "stream",
     "text": [
      "1111513362507141120 2019-03-29 09:20:11 +0300 <my_dead_bones> 5.1)Feminism in Russia? Read about the history of Russia after the Second World War. Our women nowadays (!) Work in the railway depot, where they can even carry heavy wheels (!) For trains. FOR TRAINS! (Yes, Russia is SO brutal.)\n",
      "1110304713528893440 2019-03-26 01:17:26 +0300 <shaenongarrity> @ScarletMature @SjwSpiderman You pulled that paragraph from the Wikipedia entry on feminism in Russia, which goes into some detail about how feminism has existed in Russia since at least the 18th century and was part of Soviet philosophy.   Did you read the rest of the article?   https://t.co/JkXvgvHkxK  https://t.co/8d8N7pqux1\n",
      "1107024750407094273 2019-03-17 00:04:02 +0300 <kab3d> Now speaking: my colleague and mentor @LisaSundstrom2 from @UBCPoliSci on the evolution of gender equality and feminism in Russia  https://t.co/mn8zmU7fPJ\n",
      "1106481510134231041 2019-03-15 12:05:24 +0300 <loscimientosgt> Be sure to read the Notes by Inessa about Women's Day &amp; Feminism in Russia~.~\"Dictator Putin gets all Russian men laid in only 3 minutes  https://t.co/EN4pDpSxzP via @YouTube\n",
      "1104028631616102400 2019-03-08 17:38:32 +0300 <Pushkin_House> Happy #IWD2019! Interested in the past, present and future of #feminism in Russia? Our upcoming workshop with @philippahether explores the vibrant history of political thinking, writing and activism about gender and sex in Russia from 1800 to today.  https://t.co/2T8B2o1sZd  https://t.co/MSDUkZz0bV\n",
      "1095720043718082561 2019-02-13 19:23:10 +0300 <annamshevchenko> Did you know that the two main media voices of feminism in Russia are 'Cosmopolitan' and 'Home Fireplace' magazines and I'm not joking here.\n",
      "1093939732420198404 2019-02-08 21:28:51 +0300 <amandadijoy> @philippahether I purchased a ticket to your feminism in Russia workshop at @Pushkin_House ! I hope to use some of the information you present in my next book :)\n",
      "1089873758431662080 2019-01-28 16:12:07 +0300 <rlndvchr> Bleak prospects for feminism in Russia  https://t.co/kHXzRLhwTu  https://t.co/JRtuTN9O4s\n",
      "1085263377964978177 2019-01-15 22:52:07 +0300 <Zhidoprokurator> @Andrew_Ryvkin I mean it sounds quite dumb and strange to say ‘I support feminism in Russia and don’t somewhere else’\n",
      "1071525235000819718 2018-12-09 01:01:38 +0300 <soloveyv_> в журнале \"Критика фемiнiстична\" вышло мое эссе про феминистские движения в России и \"западную\" гегемонию #feministcritique #feminisminrussia #феминизм #критикафемiнiстична  https://t.co/9mdbni0ENM\n",
      "1070318726443077632 2018-12-05 17:07:24 +0300 <memazzitelli> Hey Alexa, write my 20-page paper on feminism in Russia!!! thx homegirl\n",
      "1059798414399954944 2018-11-06 16:23:26 +0300 <s771682> Видео \"Feminism in Russia or the lack of it.\" ( https://t.co/zscX7AwZiZ) на @YouTube добавлено в плейлист.\n",
      "1046257722553851904 2018-09-30 07:37:34 +0300 <parzleyse> @sarrahslhn this is a staged video though; made to try to demonify feminism in Russia. And people take this video and share it around to cultivate even more hatred towards feminism. White feminism is flawful but this video is fake and misinformed to the audiences in media\n",
      "1046031074575491077 2018-09-29 16:36:57 +0300 <megawaffle1> @ClarendonBros I get the point. I was making a joke. Also, it’s proven this video is staged. They are Russian actors and she is apparently a propagandist. This video was supposedly made to be an attack on uprising feminism in Russia.\n",
      "1045913884635258880 2018-09-29 08:51:16 +0300 <pat4az> @ChrisMurphyCT @Phenry_1984 Wow, Russia is really going all out with the trolls tonight. I guess they're pissed they lost their pick. No wonder they're trying to criminalize feminism in Russia. They hate women as much as Republicans do\n",
      "1045764317553995776 2018-09-28 22:56:57 +0300 <SCARED_ofmilk> @CoffeeCreamGirl /propaganda to silence feminism in Russia\n",
      "1045681907667816449 2018-09-28 17:29:29 +0300 <anna_yrs> @exogcnesis oh no it’s actually fake and all of the people there are actors!! there is a huge problem with feminism in russia because it’s being joked about and not taken seriously and this video in my opinion was made just so people‘s opinion on feminism gets even worse\n",
      "1045337898822901762 2018-09-27 18:42:31 +0300 <ThisIsNotZain> this is in russia, white feminism opposed to what other ethnic feminism in russia?\n",
      "1045325067352248320 2018-09-27 17:51:31 +0300 <fairywoongie> feminism in russia was a mistake\n",
      "1044884393544888321 2018-09-26 12:40:27 +0300 <KalJes88> Feminism in Russia just got a whole lot more dangerous  Раздвинул ноги? Получи! (видеоманифест Анны Довгалюк)/ Spread your legs?...  https://t.co/UrrNpTryIJ via @YouTube\n",
      "1042919271037394945 2018-09-21 02:31:45 +0300 <JonneePAc> @HillaryClinton from wiki #FeminisminRussia After the fall of the Soviet Union in 1991, Russian feminists, punk-rock band Pussy Riot, revolutionary anti-government  a lawyer representing the Russian Orthodox Church called feminism a \"mortal sin\".[2] Look at array against women'.\n",
      "1019285208976318465 2018-07-17 21:18:25 +0300 <austinjordan142> Modern feminism in Russia is finally starting to get international attention. While I hate trump I think that growing a relationship with Russia, especially a close relationship will give all of LGBTQ+ a better chance. 1.  https://t.co/9LBwcRn47q\n",
      "1011675333794435073 2018-06-26 21:19:30 +0300 <revmagdalen> The state of feminism in Russia today.  https://t.co/gMnGX22Oiv\n",
      "1009805676619673600 2018-06-21 17:30:09 +0300 <JimAndrews_> This is truly disgusting. I'm embarrassed to say that I was unaware of just how terrible the situation is for feminism in Russia today. #smh  https://t.co/rSkuE99SVY\n",
      "1009681926888808449 2018-06-21 09:18:25 +0300 <BhopalHouse> How deeply frustrating and now you mention it one doesn't hear a great deal about feminism in Russia  https://t.co/BAgZE1GjxQ\n",
      "1004334889750155265 2018-06-06 15:11:12 +0300 <JuliaBethwaite> A nice post by a popular Russian blog explaining misunderstandings concerning #feminism (in Russia, but relevant elsewhere as well!) and emphasizing the freedom to choose  https://t.co/1wsaI91uiZ #howtogreen #феминизм\n",
      "993173175524581376 2018-05-06 19:58:31 +0300 <CathMcCormack> Delighted and excited that Prof. Katy Deepwell will be joining the Art and Women summer school  @SothebysInst to lecture on #contemporaryart and #Feminism in Russia.  https://t.co/pjFb8dxdE4\n",
      "991344626643623936 2018-05-01 18:52:31 +0300 <SpittingBack> @OhNoSheTwitnt Young, attractive, highly competent female Russian flight attendants DM me all the time and tell me there's no feminism in Russia. They love Putin and capitalism! They hate leftism!\n",
      "983637665722585088 2018-04-10 12:27:49 +0300 <DrAimeeGrant> Inna Perheentupa - recent feminism in Russia involves setting up a scene and taking striking photographs but protesting mostly online, due to hostile political context &amp; policing by the army  https://t.co/kE8M952J1i\n",
      "981933369889042432 2018-04-05 19:35:33 +0300 <angiejayy18> *complains about unfair male gender role but reinforces female gender role* *fails to see he is part of the problem but has the audacity to take issue w feminism in Russia*  *cant see that we can wear as much/ little makeup as we want&amp; the LAST reason on this planet is bc of u*  https://t.co/pTGWwMzw4s\n",
      "971890157891747846 2018-03-09 02:27:25 +0300 <OliviaFranceska> @badassday I read a great article about feminism in Russia earlier and tbqh I think they're (mostly) right\n",
      "971783973117616128 2018-03-08 19:25:28 +0300 <JS_Photo_> Vlog #6 - Feminism in Russia and International Women's day 2018 (IWD2018)  https://t.co/FjvVwT8M0b via @YouTube.\n",
      "971706344209244161 2018-03-08 14:17:00 +0300 <russiabeyond> On #InternationalWomensDay Russia Beyond tackles the debate on feminism in #Russia:  https://t.co/ruhlouGBlt  The opposing view can be found here:  https://t.co/VyoNDKDcqE\n",
      "968520037781958656 2018-02-27 19:15:45 +0300 <AnamjemWAK> AFTER FEMINISM FALL UNDER HANDS OF GAYS &amp; SAME SEXES IN USA NOW RUSSIAN FEMININES RAGING FOR THEIR RIGHTS! SO THEY ARE RIGHT &amp; A SIGN TO AMERICAN FEMININES??? Feminism In Russia: On The Streets and Behind The Scenes:  https://t.co/6KhpIZWhXj\n",
      "968135481174233090 2018-02-26 17:47:40 +0300 <Tylerjoelb> @rsat91 Went to his website yesterday; first article I found deals with like \"5 things you didn't know about Russia.\" Wohl declares there is no feminism in Russia, and as evidence points out that his trip to Russia had attractive flight attendants\n",
      "967544431074299914 2018-02-25 02:39:03 +0300 <nyxnyet> @JacobAWohl @realDonaldTrump You insights from russia are amazing: 1. Feminism in russia is dead because there were no ugly flight attendants on your flight 2. Russians love Putin because a few russians on the street told you so 3. Capitalism is alive - yes, Russia has been capitalist for almost 30 years.\n",
      "967435797090717697 2018-02-24 19:27:22 +0300 <2013martins28j1> Feminism In Russia: On The Streets and Behind The Scenes:  https://t.co/FJsGhCTG5r\n",
      "967340756443783168 2018-02-24 13:09:43 +0300 <Moonbootica> Feminism In Russia: On The Streets and Behind The Scenes:  https://t.co/gy9vLXCVSX\n",
      "967044325967351812 2018-02-23 17:31:48 +0300 <MoscowTimes> Your weekly #Russia roundup: More #Olympics2018 #doping,  @navalny sentencing, #feminism in Russia and more. Get your weekly updates here:  https://t.co/nRYUnySd5k or sign up for the newsletter on our website #TheMoscowTimes  https://t.co/vVPaS308su\n",
      "966709590560858112 2018-02-22 19:21:41 +0300 <AnamjemWAK> LET RUSSIA CALL HILLARY CLINTON TO LEAD RUSSIAN FEMININES! BECAUSE OF RUSSIA SHE LOST ELECTION IN USA??? Feminism In Russia: On The Streets and Behind The Scenes:  https://t.co/6KhpIZWhXj\n"
     ]
    },
    {
     "name": "stdout",
     "output_type": "stream",
     "text": [
      "966635832835760128 2018-02-22 14:28:36 +0300 <CeesBoogaart> Feminism In Russia: On The Streets and Behind The Scenes:  https://t.co/aGwQsqBawQ\n",
      "966365069884952576 2018-02-21 20:32:41 +0300 <cicoglobal>  https://t.co/X5vJQkASdO. #CICO RUSSIA / Topic / #Women #Empowerment: #Feminism In Russia: On The Streets and Behind The Scenes. Read more:  https://t.co/8pKBbZsDs8. #CICO.  https://t.co/j0PdwO0fHs\n",
      "966334089694449664 2018-02-21 18:29:35 +0300 <rettperera> My article on the struggles of #feminism in #Russia a year after the decriminalisation of domestic violence and with upcoming #elections @alyonapopova  https://t.co/wV2iyruiUp  https://t.co/YZyHV9D7JH\n",
      "961749084318191616 2018-02-09 02:50:24 +0300 <emkohlman> Sobchak says she has 20% more support from women than men in Russia. She adds that there have been many issues with feminism in Russia. \"I have a long way to fight\" - @xenia_sobchak\n",
      "957870356659884033 2018-01-29 09:57:44 +0300 <LucaGuala> #feminism in #Russia still has a long way to go @AntoniaAtzeni   https://t.co/VXg9dSI3Tk\n",
      "953383476912361473 2018-01-17 00:48:28 +0300 <email_albert> Feminism in Russia  https://t.co/chYZbkNWsC\n",
      "951705691244425217 2018-01-12 09:41:33 +0300 <s771682> Feminism in Russia or the lack of it  https://t.co/2AmhulZo3S\n",
      "951637651496538114 2018-01-12 05:11:11 +0300 <yuvalweber> @bdtaylor_SU @aaron_schwa @BearMarketBrief @SevaUT @gorokhovskaia I can make a few suggestions on political economy of radical feminism in Russia as well as an expert on the maternity capital program. If you have some specific requests/suggestions, I’ll find whomever you need.\n",
      "949962608806891521 2018-01-07 14:15:10 +0300 <rettperera> @alyonapopova hi there! I'm trying to get in touch for an article I'm writing about feminism in Russia for the Moscow Times. Would love to talk to you more, let me know how to get in touch!\n",
      "946558797484625920 2017-12-29 04:49:38 +0300 <Tenuretrack> @RT_com So much for feminism in Russia? @cnn @abc @TheView\n",
      "942064237765152768 2017-12-16 19:09:51 +0300 <gnoeyk> Let Women Work: The Economic Case for Feminism - \"In Russia, women cannot seek employment in 456 specific occupations, from woodworking to driving a subway. Argentina prohibits women from entering “dangerous” careers\"  https://t.co/x6An4CI13Q via @ForeignAffairs\n",
      "942062095071416321 2017-12-16 19:01:20 +0300 <COG_1998> There’s just no feminism in Russia at all!😂😂😂😂😂😂😂😂😂😂  https://t.co/iV7Krn8dPv\n",
      "939565929670656001 2017-12-09 21:42:28 +0300 <AlysonRachelle> Bro I got a 94 on my fifteen page case study on feminism in Russia and I'm actually so proud of myself I can't wait to get it back and read all the marks\n",
      "938362583987318785 2017-12-06 14:00:48 +0300 <Womensofficial> New post \"Feminism in Russia is a very Controversial Issue Because Women's Rights Activists Often Face Anti-Feminists\" #womensempowerment  https://t.co/DIseHqmPTt  https://t.co/XeRpGCblZ7\n",
      "935825902050709505 2017-11-29 14:00:56 +0300 <LouDavidTweets> We’re kicking off @CmiCymru #cmiwomen event in #Wrexham today. Opinions of #feminism in Russia - lots of destructive language...  https://t.co/RckcXko8qZ\n",
      "935472493770485761 2017-11-28 14:36:37 +0300 <KangasAnni> ”Some day, maybe. But not next year.” Easy to agee with this analysis of women, political change, protesting and feminism in Russia by @Amie_FR.    https://t.co/PaVOyJcuhU\n",
      "934372507754393600 2017-11-25 13:45:40 +0300 <GloDf> What do you know about #Feminism in #Russia?  I interviewed 16 women from different countries. Here the video I filmed during the feminist festival in #SaintPetersburg! Enjoy!  https://t.co/qJA2WqnjCD  #MeToo #saturdaymorning #femminismo #sonofemminista #iamfeminist #sabato #art\n",
      "933691268458270720 2017-11-23 16:38:40 +0300 <russiabeyond> What’s happening with feminism in #Russia? Russia Beyond takes a closer look:  https://t.co/e7PuauCJ61\n",
      "918824805259980800 2017-10-13 16:04:39 +0300 <byantium> 1/2 Listening to R4 on feminism in Russia - or lack of it- focuses mainly Pussy Riot - has anyone got one of their records? Googling found\n",
      "915183990801408001 2017-10-03 14:57:21 +0300 <shesinrussia> 18: what's the main russian hobby? what's the state of feminism in russia? what does one random german guy think of st. petersburg? we went on a ryumochnaya (vodka house + snack bar) excursion and answered these very questions.   https://t.co/w76A2lVZgi\n",
      "901953747349258240 2017-08-28 02:45:05 +0300 <tonedeaf> Masha Alyokhina from Pussy Riot talks about political theatre, revolution, and feminism in Russia  https://t.co/PiXkKyyfiz  https://t.co/wgSLh0CKUt\n",
      "899468783915606016 2017-08-21 06:10:44 +0300 <proflauradean> The state of #feminism in #Russia=not great!  https://t.co/NJRZdkP6CC\n",
      "899006082974199808 2017-08-19 23:32:07 +0300 <brandedlollipop> Rich Farmbrough edited the Wikipedia article on Feminism in Russia.  https://t.co/0TuMlQlwnh\n",
      "883020931601485824 2017-07-06 20:52:50 +0300 <ash_for_short> The brilliant @teresaeder on patriarchy and feminism in Russia.  https://t.co/nmzRCsqZTb\n",
      "872351997080592384 2017-06-07 10:18:18 +0300 <crispyoz> @TIME I think those who fight feminism in Russia can now rest their case.\n",
      "867493390769954817 2017-05-25 00:31:56 +0300 <DingusTheMingus> @ThothMRM @Blazeuuu @TheYungToes @Incenseativesa @TacticalWarhead @DavBlayn @OmniDestiny Feminism in Russia isn't comparable to what's in the US, yet there exists an even higher level of discrepancy between genders. Why?\n",
      "865215241671626752 2017-05-18 17:39:23 +0300 <miyamureki> Ugly: He told us to write an essay on Feminism in Russia and i was like \"I'm not a woman.\" I fucking hate this class.  Me:  https://t.co/t5TZA2BEZx\n",
      "856836132230844417 2017-04-25 14:43:47 +0300 <Elvira_MLady> Installation dedicated to #urban #feminism in Russia 🇷🇺 #garagemca -…  https://t.co/BpZERw23ab\n",
      "850386013088362504 2017-04-07 19:33:19 +0300 <WikiTitle> Feminism in Russia - Wikipedia  https://t.co/2lCVF1KllA\n",
      "849523985339613184 2017-04-05 10:27:56 +0300 <MarinaVAntonova> Feminism in Russia? Pff please.  https://t.co/eywkqCTh4F\n",
      "848532133752836096 2017-04-02 16:46:40 +0300 <PriyankaReads> Marxist feminism in Russia- An analysis of Maxim Gorky's writings in the Realist era:  https://t.co/itUCV9iTHh\n",
      "842695178754260992 2017-03-17 14:12:41 +0300 <MuniraMustaffa> \"We don't need feminism in Russia.\"   Oh, honey.  https://t.co/CV6OtabagL\n",
      "842073957192863745 2017-03-15 21:04:11 +0300 <kscheib> The great @dashalitvinovv just published her first @guardian piece and of course it's about feminism in #Russia &lt;3  https://t.co/gviOfIgsgq\n",
      "842065024004829196 2017-03-15 20:28:41 +0300 <BeHappyPolish> #Feminism in Russia from this blogger's perspective  https://t.co/7G7sFxsLuL @stylesprinter very interesting read!\n",
      "840861772353531904 2017-03-12 12:47:23 +0300 <InternsplusInfo> Feminism in Russia #women #feminism  https://t.co/a8QGmXDnbx\n",
      "830503087408295937 2017-02-11 22:45:40 +0300 <opiumhum> Spent the evening with my mum feasting on Georgian food, discussing feminism in Russia &amp; showing her Vogueing videos. Family quality time ☺️\n",
      "826342420333867008 2017-01-31 11:12:40 +0300 <YliaMorozova73> @1Dittlinger Feminism in Russia - lineman of Railways, civil aviation pilot, a steelworker, Chairman of the Federation Council.  https://t.co/3RSvUpxR9M\n",
      "824885444261212164 2017-01-27 10:43:10 +0300 <poemproducer> anybody hints on research on feminism in Russia &gt; Marina Iwanowna Zwetajewa 1892 − 1941 / An Achmatova TBA &amp; AGF   https://t.co/Qd4Z9zegtT\n",
      "822205933405216768 2017-01-20 01:15:45 +0300 <ruzke_politota> Feminism in Russia  https://t.co/b32HwOABJ9\n",
      "822204984280436737 2017-01-20 01:11:58 +0300 <golub> Feminism in Russia  https://t.co/JrrTpdRfTd\n",
      "820527078407831552 2017-01-15 10:04:34 +0300 <russophiliac> @cfiig8200 what's encouraging is that three students chose feminism in Russia as a BA Diss topic.\n",
      "817014971804565505 2017-01-05 17:28:43 +0300 <annamshevchenko> @prstskrzkrk it's just a huge wave of feminism in Russia, conserned with very weird things, maybe I'm wrong on that one\n",
      "812755012799594500 2016-12-24 23:21:09 +0300 <LubimayaRussiya> NO to feminism in #Russia!!!   https://t.co/ropGytBVax\n",
      "808116370067988480 2016-12-12 04:08:51 +0300 <LetaHong> I'm looking for people to follow on patriarchy &amp; feminism in Russia. I have @mashagessen's great book on Pussy Riot. Other recommendations?\n",
      "795941469098049536 2016-11-08 13:50:08 +0300 <ElenasModelsTW> Feminism in Russia: “It’s for men-haters, lesbians, and ugly spinsters” #Feminism #Russia #DatingTips #ElenasModels  https://t.co/wkVI1hD9N6  https://t.co/eNhRzUQ4PT\n",
      "795122854190727168 2016-11-06 07:37:15 +0300 <lizhenry> Q: how about feminism in Russia, abortion rights etc? Masha: men decide a lot about women's bodies. #pussyriot #mediazona\n",
      "763051918214197248 2016-08-09 19:38:48 +0300 <Neimiiii> @KirillBockarev feminism in Russia in 2k16 LUL\n",
      "750386853124136961 2016-07-05 20:52:21 +0300 <cinepunx> For The Sake of Russia: MOSCOW DOES NOT BELIEVE IN TEARS and feminism in Russia -  https://t.co/DCZYNM3qdY  https://t.co/Fm1dxPTHjd\n",
      "750386846916612098 2016-07-05 20:52:20 +0300 <cinepunx> For The Sake of Russia: MOSCOW DOES NOT BELIEVE IN TEARS and feminism in Russia -  https://t.co/DCZYNM3qdY  https://t.co/x3Gzbb7kPH\n",
      "749613414926917632 2016-07-03 17:38:59 +0300 <Shtukensia> Мне понравилось видео \"FEMINISM IN RUSSIA ♯ Shtukensia\" ( https://t.co/ftDsb8c7QY) на @YouTube.\n",
      "735860397786333185 2016-05-26 18:49:25 +0300 <gemzaib> #Sexism vs #feminism in #Russia   https://t.co/TtIW5HTltO\n",
      "724679081569054721 2016-04-25 22:18:51 +0300 <corporatetools> Overcompensation Leads to Aversion to Feminism in Russia  https://t.co/s1BDtqlN3W via @21stCent_News\n",
      "722880492706639873 2016-04-20 23:11:54 +0300 <24HourWealth> Overcompensation Leads to Aversion to Feminism in Russia: The complexities of each society in its way of.. #news  https://t.co/5VCwvLNgmu\n",
      "722393168428331008 2016-04-19 14:55:27 +0300 <Nat_Vasilyeva> @shaunwalker7 it is a story on feminism in Russia, isn't it?\n",
      "683724795956064256 2016-01-03 22:01:09 +0300 <jcbehrends> Talking business and feminism in #Russia with @courtney_ft and Oleg Tinkov.   https://t.co/XB7fJe9sAr\n",
      "683694329618038784 2016-01-03 20:00:05 +0300 <shotakincha> * Natalia L. Pushkareva - #Feminism in #Russia  https://t.co/02rT15XfCC\n",
      "672085678398824448 2015-12-02 19:11:27 +0300 <umichCREES> Join us at noon for #Feminism in #Russia lecture by Natalia Pushkareva. Co-sponsored by @UMichIRWG  https://t.co/RzU8TyoUvp\n",
      "672060733887225856 2015-12-02 17:32:19 +0300 <UMichIRWG> Don't forget! Natalia Pushkareva's lecture on Feminism in Russia is today at noon! @umichCREES  https://t.co/ZQombZ6qGf\n",
      "671740150297284608 2015-12-01 20:18:26 +0300 <umichCREES> Tomorrow at noon: #Feminism in #Russia, co-sponsored by @UMichIRWG  https://t.co/RzU8TyoUvp\n",
      "671725732897366017 2015-12-01 19:21:09 +0300 <istorikosivar> Natalia L. Pushkareva on Feminism in Russia  Center for Russian, East European, and Eurasian Studies | @umich :  https://t.co/kSa1A5J6uF\n"
     ]
    },
    {
     "name": "stdout",
     "output_type": "stream",
     "text": [
      "669939786266894338 2015-11-26 21:04:26 +0300 <UMichIRWG> See Natalia L. Pushkareva discuss Feminism in Russia on 12/2! @umichCREES  https://t.co/KWfRL4aGVW  https://t.co/wIGF7LRYnS\n",
      "659797062893092864 2015-10-29 21:20:52 +0300 <BareReality> &gt;&gt;and she promised to pass it on to EVERYONE in Russia. Doing my bit for #feminism in Russia :-)\n",
      "647526753053855744 2015-09-26 00:43:03 +0300 <al_masani> @minasmith64 why can't people see it. He bans the crazy sort of feminism in Russia but promotes in the west &amp; invades Syria, Ukraine\n",
      "634402129789222912 2015-08-20 19:30:29 +0300 <kvachaknavee> Watch Pussy Riot discuss the sinister connotation of term 'feminism'  in Russia:  http://t.co/JqQqO7zGtG\n",
      "626438925406597120 2015-07-29 20:07:33 +0300 <CathScottSocial> Really interesting - how roller derby prompts a wider conversation about feminism in Russia   https://t.co/f3aKN49Clk via @openDemocracy\n",
      "599226111336251392 2015-05-15 17:53:32 +0300 <Hentunen23> talk about feminism in Russia..  https://t.co/W0d8ELrANP\n",
      "588199632997523456 2015-04-15 07:38:15 +0300 <pnwbm> @ImonaIbadbek then go preach your feminism somewhere else. I'm all for feminism in Russia and India. Just get it out of my face here.\n",
      "582850437612756992 2015-03-31 13:22:27 +0300 <sdien> When Pussy Riots: Feminism in Russia 3/31 book talk Clark U. Prof. Sperling discusses feminist activism in Russia |  http://t.co/YQqmfmyEFR\n",
      "575018694197248002 2015-03-09 22:41:54 +0300 <GirlsLearnIntl> Sexism and Feminism in Russia side event at the #CSW59!! #Beijing20  http://t.co/4FHAVtEPiB\n",
      "574980514370748416 2015-03-09 20:10:11 +0300 <AnnaPyatko> So true about feminism in Russia  http://t.co/v4BGTpMvA1\n",
      "574648383085879297 2015-03-08 22:10:25 +0300 <skachkov_social> New blog: I take on Feminism in Russia living https://skachkat21.wordpress.com/2015/03/08/an-american-russian-feminist-living-in-russia/\n",
      "573170129774772225 2015-03-04 20:16:22 +0300 <serpent849>  http://t.co/PBQjSXgZls why there's (almost) no feminism in russia\n",
      "572895277054484481 2015-03-04 02:04:12 +0300 <feminismkg> @Zeeblebum don't know, but like in US - mainstream feminism in Russia is more 3rd wave, only UK and Spain sorta radfem  @FireWomon @imodjen\n",
      "563042173919436800 2015-02-04 21:31:29 +0300 <Pyaria> On feminism in Russia...  http://t.co/RvM0jEbz03\n",
      "535369280129617920 2014-11-20 12:49:17 +0300 <Anatainment> Also: Feminism in Russia. Yes, you can even missuse that idiology.\n",
      "533710879154790402 2014-11-15 22:59:24 +0300 <FrancescaEbel> There is no state of #feminism in Russia... We try to fight for it but we get whips in our faces when we try #PussyRiot @cambridgeunion\n",
      "531546188064235520 2014-11-09 23:37:41 +0300 <martin_pm> @YuliaSkyNews ... Where is feminism in Russia?!\n",
      "511787317389168640 2014-09-16 11:02:59 +0300 <Jana_Vasilievna> Most of my Russian female friends refused to comment on feminism in Russia for Holly's article. It did surprised me a lot.\n",
      "498547414916407296 2014-08-10 22:12:20 +0300 <rttlundman> @cbperlenberg Feminism in Russia...  http://t.co/ggIDwSAay9\n",
      "493343303598088192 2014-07-27 13:33:04 +0300 <marie_strati> #feminism in Russia – reality or fable? An historical overview by Ekaterina Samoylina.  http://t.co/q9E1yTaZK8\n",
      "484775808930938881 2014-07-03 22:08:54 +0300 <rjhol7> Feminism in Russia! - A couple of interactions during the trip made him think deeply about feminism in...  http://t.co/qQtH8r6z53\n",
      "479775887198781440 2014-06-20 03:00:59 +0300 <GenderPudding> @miss_print Forrealz. \"They don't have feminism in Russia, so the ladies like to be treated like ladies\" ACTUAL LINE.\n",
      "464341446930472960 2014-05-08 12:50:02 +0300 <BareReality> @caitlinmoran I gave my copy of 'How to be a Woman' to a Russian woman who said there's no feminism in Russia. There is now.\n",
      "452253569014857728 2014-04-05 04:17:07 +0300 <BrukDiana> @amratner ATM they've done nothing but reinforce negative stereotypes about feminism in Russia and grace magazine covers.\n",
      "449599309072199680 2014-03-28 20:30:03 +0300 <BrukDiana> Pick up a copy of the New York Times today for my articles on Russian bathhouses in NY and feminism in Russia!  http://t.co/YAlrEzlvkE\n",
      "449347558976937984 2014-03-28 03:49:41 +0300 <alleneleak> I got on my computer to research the history of feminism in Russia and I ended up watching cat videos. #finals\n",
      "436261225404448768 2014-02-20 01:09:16 +0300 <mileszs> @hdyar What if you write about feminism in Russia as seen through YouTube links about Pussy Riot you've seen on Reddit's front page?\n",
      "424342059244199936 2014-01-18 03:46:45 +0300 <sinapps> Writing the cultural history of feminism in Russia is the easiest thing I’ve ever done because it takes about a page &amp; a half – Masha Gessen\n",
      "412252270323970049 2013-12-15 19:06:15 +0300 <GORussiaNews> Feminism in Russia  http://t.co/YDrLWgWzFW  http://t.co/DFNOQlaFh5 #russia #asia\n",
      "411123415789998081 2013-12-12 16:20:35 +0300 <RuthNemzoff> Fascinating article on Feminism in Russia.  http://t.co/PRcrlbyfaQ @feministing #womensrights\n",
      "409025756002410496 2013-12-06 21:25:14 +0300 <GORussiaNews> Feminism in Russia  http://t.co/5Fc4c307Fl  http://t.co/DFNOQlaFh5 #russia #asia\n",
      "408330806419914752 2013-12-04 23:23:45 +0300 <GORussiaNews> Real Facts Feminism in Russia  http://t.co/2irNajIVPc  http://t.co/DFNOQlaFh5 #russia #asia\n",
      "402736449386078208 2013-11-19 12:53:46 +0300 <GORussiaNews> Feminism in Russia  http://t.co/6g7WmcOTrG  http://t.co/DFNOQlaFh5 #russia #asia\n",
      "399017498831376384 2013-11-09 06:35:59 +0300 <twittenjger> Is feminism in Russia a mortal sin?  http://t.co/ccPdqHKwhs #Nbtj1bos*cult_of_guilt\n",
      "367244526110670848 2013-08-13 14:21:32 +0300 <Elko_B> An interesting and slightly rapey article about sex and love (and feminism?) in Russia  http://t.co/KGOnNsOP3C\n",
      "366323095964876800 2013-08-11 01:20:06 +0300 <MKELGBTCENTER> For a whole new perspective on LGBTQ rights, human rights and feminism in Russia please read this. You will learn...  http://t.co/MjNFmyTQsI\n",
      "346246981452189696 2013-06-16 15:44:47 +0300 <Jon_Cornejo> 'We want to start the third wave of feminism in Russia' #pussyriot #meltdownfest '3rd wave: gender doesn't play a role anymore'\n",
      "341768861978341377 2013-06-04 07:10:21 +0300 <DougieWasHe> #Cats Anubis &amp; Keisean don't feel the need to listen to @TheDailyShow discussion on #PussyRiot &amp; #Feminism in #Russia  http://t.co/UAvtPfJT55\n",
      "339420905589592065 2013-05-28 19:40:24 +0300 <E_IR> .@VikTurbine on what the #PussyRiot trial says about the state of women's rights and feminism in Russia:  http://t.co/1DfS0LhuxD\n",
      "322473021807927296 2013-04-12 01:15:34 +0300 <DavidBamf0rd> Article in progress about the rise of feminism in Russia... Interesting that the only quotes on the subject so far are from men. #biasfail\n",
      "322378643290595329 2013-04-11 19:00:32 +0300 <PrimaDonaLounge> \"@MiriamElder: I'll be on @BBCWomansHour today talking about feminism in Russia. It will be a short conversation.\" Please and Thank you!\n",
      "322284004063723521 2013-04-11 12:44:28 +0300 <iworkinpages> @MiriamElder excellent points re feminism in Russia! well done.\n",
      "322281417763590144 2013-04-11 12:34:12 +0300 <YWTrust> Listen to @guardian @miriamelder now on @BBCWomansHour talking about feminism in Russia. She says : \"It will be a short conversation\" ....\n",
      "322281199735296000 2013-04-11 12:33:20 +0300 <Pushkin_House> UK journalist Miriam Elder is on BBC Radio 4 Woman's Hour today talking about feminism in Russia.\n",
      "322262987605934080 2013-04-11 11:20:58 +0300 <debbieleven> @janecwoods - for info RT @miriamelder: I'll be on @BBCWomansHour today talking about feminism in Russia. It will be a short conversation.\n",
      "322252068880527360 2013-04-11 10:37:35 +0300 <ninacaplan> RT @MiriamElder: I'll be on @BBCWomansHour today talking about feminism in Russia. It will be a short conversation.\n",
      "322239004533735424 2013-04-11 09:45:40 +0300 <UnaccompanyLady> Just take off yr shirt. RT @MiriamElder: I'll be on @BBCWomansHour today talking about feminism in Russia. It will be a short conversation.\n",
      "322235582971535360 2013-04-11 09:32:04 +0300 <ClaytonNicholas> Zing! RT @MiriamElder  I'll be on @BBCWomansHour today talking about feminism in Russia. It will be a short conversation.\n",
      "322235467342946304 2013-04-11 09:31:36 +0300 <MiriamElder> I'll be on @BBCWomansHour today talking about feminism in Russia. It will be a short conversation.\n",
      "311136939204030465 2013-03-11 18:30:01 +0300 <Corlan_Dashiva> no feminism in Russia then?  http://t.co/6SLXwYKHge Kraft’s portrayal of the events was more nuanced than those in the newspapers. Lap...\n",
      "310092382106423297 2013-03-08 21:19:19 +0300 <baibakovart> Censorship: What more appropriate gesture for an exhibition on the state of Feminism in Russia?  http://t.co/5fJLBrHaAn\n",
      "301115025534369792 2013-02-12 02:46:31 +0300 <McGrathLiam_Rus> The lack of #Feminism in #Russia Link:  http://t.co/ecV6nO2S\n",
      "301114060399845377 2013-02-12 02:42:41 +0300 <McGrathLiam_Rus> The lack of Feminism in Russia - Looking over a variety of blogs, which tell stories of Russia, I find that a…  http://t.co/aNS21iRt\n",
      "293939266252333056 2013-01-23 07:32:36 +0300 <Napurara> @lutfi_sun31 putus asa sama tema \"feminism in Russia\" datanya ternyata ga mudah! Ga pny mantan pacar org Rusia sih.. :D\n",
      "286608482298384384 2013-01-03 02:02:41 +0300 <reallifedaria> Why can't I find anything about Feminism in RUSSIA?\n",
      "261049972370333696 2012-10-24 13:22:18 +0300 <historian_blog> New blog post on Pussy Riot and feminism in Russia:  http://t.co/T5RWSwHG #historyblog #feminism #PussyRiot\n",
      "244195865881870336 2012-09-08 01:10:06 +0300 <6Jussi> Way to go #pussyriot, again... Dunno what you are up to, but thats gonna fail and feminism in Russia takes a hit. Radicals fail.\n",
      "242751921880973312 2012-09-04 01:32:22 +0300 <elloellijung> Feminism in Russia... Intrigue  @ Joe Rosenfield Center  http://t.co/NEktjSDJ\n",
      "242609896925822976 2012-09-03 16:08:01 +0300 <Womrights> Is feminism in Russia a mortal sin?  http://t.co/xcmtP5wY\n",
      "241125765901606912 2012-08-30 13:50:37 +0300 <feministky_sk> Is feminism in Russia a mortal sin? | openDemocracy Dalsi pohlad na #PussyRiot  http://t.co/hOAcnIgY\n"
     ]
    },
    {
     "name": "stdout",
     "output_type": "stream",
     "text": [
      "240866674956439552 2012-08-29 20:41:05 +0300 <cyberpunk65> Pussy Riot: the face of feminism in Russia! | Disclaimer: Throughout this article the word ‘pussy’ will be used...  http://t.co/8msaRjnH\n",
      "237932784751112192 2012-08-21 18:22:51 +0300 <DeenaMsh> Clearing up the misconception about the #PussyRiot: Is feminism in Russia a mortal sin?  http://t.co/NS2wYYeA\n",
      "237807501783990273 2012-08-21 10:05:01 +0300 <enguita> New Statesman: Is feminism in Russia a mortal sin?  http://t.co/IE1tggWA\n",
      "237665895412035585 2012-08-21 00:42:19 +0300 <GlobalFundWomen> In light of the #PussyRiot trial, insights on the use and (lack of) acceptance of the word \"feminism\" in Russia:  http://t.co/p9UNQjsc\n",
      "237376707047333888 2012-08-20 05:33:11 +0300 <AnthonyLarme> \"Is feminism in Russia a mortal sin?\" asks the MSM - I say it is indeed a mortal sin regardless of your country! -  http://t.co/fKga332Q\n",
      "237055104883228672 2012-08-19 08:15:15 +0300 <wikipedialive> Talk:Feminism in Russia: nom ← Previous revision \t\t\tRevision as of 05:13, 19 August 2012 \t\t\tLine 1:   Line 1: − ...  http://t.co/5HEwNmYS\n",
      "236914994569150464 2012-08-18 22:58:31 +0300 <ArbagoKorolev> Is feminism in Russia a mortal sin?  http://t.co/WfrHyoI9\n",
      "236868580073930752 2012-08-18 19:54:04 +0300 <VeengasJ> Is feminism in Russia a mortal sin?   http://t.co/9CwYq95W\n",
      "236786438056837120 2012-08-18 14:27:40 +0300 <laurelnymph> Is feminism in Russia a mortal sin?  http://t.co/4GKRYoKs\n",
      "236701290334412800 2012-08-18 08:49:19 +0300 <ArbagoKorolev> Is feminism in Russia a mortal sin?  http://t.co/WfrHyoI9\n",
      "236477272599691268 2012-08-17 17:59:09 +0300 <jenifromdapatio> Had no idea hooliganism was a word (or a crime) #PussyRiot sentenced to 2 yrs in jail, cause you know #feminism in Russia is a crime.. #smh\n",
      "236469707773997057 2012-08-17 17:29:06 +0300 <wooddetective> I did a really depressing research project on women and feminism in Russia last year. It was one of the most fascinating subjects I studied.\n",
      "236466433415057410 2012-08-17 17:16:05 +0300 <VladG12> @_ri_z @houriajourney @safeworld4women feminism in Russia is too obsolete. Women have more rights than men there last time I was there.\n",
      "236436379029098496 2012-08-17 15:16:40 +0300 <Mystosuk> Is feminism in Russia a mortal sin?  http://t.co/fp3nQi6e\n",
      "236427148443922432 2012-08-17 14:39:59 +0300 <c_crampton> A reminder of @valeria_wants great piece on #pussyriot - Is feminism in Russia a mortal sin?  http://t.co/wwJXSOAb\n",
      "236382642029875200 2012-08-17 11:43:08 +0300 <kgtoledano> Is feminism in Russia a mortal sin? Por lo visto si  http://t.co/HbjjoWCT\n",
      "236345982156165120 2012-08-17 09:17:27 +0300 <midpannonian> Is feminism in Russia a mortal sin?  http://t.co/0YkC4uKX #PussyRiot\n",
      "236342768618852352 2012-08-17 09:04:41 +0300 <bkunkel3> Is feminism in Russia a mortal sin? | openDemocracy | @scoopit via @davidhodgson  http://t.co/kqLJP1iM\n",
      "236219562926940160 2012-08-17 00:55:07 +0300 <71djt> Is feminism in Russia a mortal sin?  http://t.co/0Oe9NQ4s via @opendemocracy #PussyRiot\n",
      "236210872266158082 2012-08-17 00:20:35 +0300 <Zeeblebum> \"Is feminism in Russia a mortal sin?\"  http://t.co/FHFTYH6P #Russia #Feminism #PussyRiot\n",
      "236152789636628480 2012-08-16 20:29:47 +0300 <Slintottuk>  http://t.co/3sjfyCXE (Is feminism in Russia a mortal sin?)\n",
      "236131513698222080 2012-08-16 19:05:14 +0300 <grainnemcmahon> [link] Is #feminism in Russia a mortal sin?  http://t.co/H36x43oL\n",
      "236124507750928384 2012-08-16 18:37:24 +0300 <gueneykoese> Is feminism in Russia a mortal sin? -  http://t.co/r8txeSk8\n",
      "236123674338529280 2012-08-16 18:34:05 +0300 <redtrainblog> Today's important article is @valeria_wants writing for @NewStatesman on #pussyriot and feminism in Russia   http://t.co/pySAvEr8\n",
      "236118381525364736 2012-08-16 18:13:03 +0300 <EurAlmanac> Is feminism in Russia a mortal sin?  http://t.co/8VWdzqiC [@NewStatesman]\n",
      "236117653725515779 2012-08-16 18:10:10 +0300 <DrFrancesRyan> Is #feminism in Russia a \"mortal sin\"? @valeria_wants on the impact of Pussy Riot on Russian women  http://t.co/HOncoUVo (via @NewStatesman)\n",
      "236116158024151041 2012-08-16 18:04:13 +0300 <NewStatesman> Is feminism in Russia a \"mortal sin\"? @valeria_wants reports from Moscow on the impact of Pussy Riot on Russian women  http://t.co/CXVA2CZk\n",
      "236091948790853632 2012-08-16 16:28:01 +0300 <Feminismworld> Is feminism in Russia a mortal sin? - New Statesman (blog)  http://t.co/vUcrcmzd\n",
      "236090282674888704 2012-08-16 16:21:24 +0300 <politics_db> Is feminism in Russia a mortal sin?   http://t.co/RYlKrvl4 | New Statesman\n",
      "236019593729146880 2012-08-16 11:40:30 +0300 <hnnhstz> @valeria_wants on the Pussy Riot trial and feminism in Russia:  http://t.co/Mvdrq3r3 #good\n",
      "235966699453681664 2012-08-16 08:10:19 +0300 <bobbygw> #openDemocracy debate: Is #feminism in Russia a 'mortal sin'?!  http://t.co/a0mEKJYX\n",
      "235846103466119168 2012-08-16 00:11:07 +0300 <PeaceLeadership> \"Is #feminism in #Russia a mortal sin? | openDemocracy\"  http://t.co/iLXZXNSM\n",
      "235815336757317632 2012-08-15 22:08:52 +0300 <hibiscuits1> Is feminism in Russia a mortal sin?  http://t.co/E8oQNAVh\n",
      "235800412823879681 2012-08-15 21:09:34 +0300 <theopenenso> Is #feminism in #Russia a mortal sin?  http://t.co/gTugcOoN PUSSY RIOT: SAINTS OR SINNERS?\n",
      "235784720007438336 2012-08-15 20:07:12 +0300 <Don_Costy> Is feminism in Russia a mortal sin?  http://t.co/UGPr7vyd\n",
      "235779350312648704 2012-08-15 19:45:52 +0300 <shanemagee> is #feminism in #russia a mortal sin?  http://t.co/u5WbwG6k #pussyriot #justice\n",
      "235753850190036992 2012-08-15 18:04:32 +0300 <khaledhishma> Is #feminism in #Russia a mortal sin?  http://t.co/fZgJytxq\n",
      "235736277775945728 2012-08-15 16:54:43 +0300 <davidhodgson> Is feminism in Russia a mortal sin? | openDemocracy |  http://t.co/yLuoFEtY\n",
      "235731350508949505 2012-08-15 16:35:08 +0300 <antonycwilson> Is #feminism in Russia a mortal sin? #pussyriot #humanrights #socialjustice  http://t.co/9XZzDzLN\n",
      "235717656391593984 2012-08-15 15:40:43 +0300 <PROVIDUS77> Feminism is just a myth for little girls watching American films. We have no time for feminism in Russia  http://t.co/UeAOzL1i\n",
      "235712565836132353 2012-08-15 15:20:29 +0300 <Taniahbeard> Is feminism in Russia a mortal sin?  http://t.co/5ygHID1X\n",
      "235699523400380416 2012-08-15 14:28:40 +0300 <horia_victor> Is feminism in #Russia a mortal sin?  http://t.co/K4R0JEDo ( @maitea6 )\n",
      "235683127341760512 2012-08-15 13:23:30 +0300 <casparhenderson> Valeria Costa Kostritsky on Pussyriot and feminism in Russia  http://t.co/i9bJgclB\n",
      "235681994749661184 2012-08-15 13:19:00 +0300 <errange> Is feminism in Russia a mortal sin?  http://t.co/cbTZUuaz\n",
      "235681390056845313 2012-08-15 13:16:36 +0300 <5050oD> Who is listening to Pussy Riot's message ? Read: Is feminism in Russia a mortal sin?  http://t.co/RpDVSn1l\n",
      "235675734599950336 2012-08-15 12:54:08 +0300 <v_mijanovic> Is feminism in Russia a mortal sin?  |  http://t.co/TOGwdaAc\n",
      "235673199445159936 2012-08-15 12:44:04 +0300 <EvryDyisDifrnt> Is feminism in Russia a mortal sin? http://t.co/rgt0JJde Last paragraph defo worth reading #Russia #PussyRiot\n",
      "235666796970143744 2012-08-15 12:18:37 +0300 <carolmhunt> Is feminism in Russia a mortal sin?  http://t.co/fSTMFVAK\n",
      "235664710312267776 2012-08-15 12:10:20 +0300 <sarahemilyduff> 'In Russia, feminism is still underground.' Interesting (and depressing) piece on feminism in Russia,  http://t.co/QWbjr8Gn HT @openDemocracy\n",
      "235655264546734080 2012-08-15 11:32:47 +0300 <greychampion> newStream©: Is feminism in Russia a mortal sin?  http://t.co/8r7lM4TX\n",
      "233323761833758722 2012-08-09 01:08:14 +0300 <jenniferia> Fantastic op-ed on the Pussy Riot trial and feminism in Russia. Putin v. the Punk Rockers  http://t.co/njcBahdl\n",
      "233120116257202176 2012-08-08 11:39:01 +0300 <raptorapid> \"Feminism in Russia is incompatible with Orthodox faith.\"  RT @NatVasilyevaAP: Latest on #PussyRiot trial  http://t.co/xAEZHr7T\n",
      "231910356702871553 2012-08-05 03:31:52 +0300 <wayneandwax> \"Hardly anyone expected that feminism in Russia…would be associated in 2012 with balaclavas, bright clothes and punk music.\" -Tolokonnikova\n",
      "227157179902337024 2012-07-23 00:44:26 +0300 <wikipedialive> Talk:Feminism in Russia: reassessing - C to Bish now, I think ← Previous revision \t\t\tRevision as of 21:44, 22 Ju...  http://t.co/RdPZ07v5\n",
      "218562648063737857 2012-06-29 07:32:50 +0300 <wikipedialive> Talk:Feminism in Russia: ‎Comments:  comment ← Previous revision \t\t\tRevision as of 04:31, 29 June 2012 \t\t\tLine 3...  http://t.co/Wvl4E4pE\n",
      "200366603307720704 2012-05-10 02:28:15 +0300 <LiberatumGlobal> Only Liberatum can touch upon feminism in Russia, literature and modern day cinema all in one go - Hong Kong reportage on Liberatum\n",
      "175547871599403008 2012-03-02 14:47:28 +0300 <evanbeswick> @ruthmilne Fear not. I'm firmly in the pro teapot camp! It was the contrast between the previous piece about radical feminism in Russia!\n",
      "169749292758740993 2012-02-15 14:45:59 +0300 <uttryck> #Feminism in #Russia – reality or fable? by Ekaterina Samoylina  http://t.co/TTfp7VCo #uttryck\n",
      "167334092294193152 2012-02-08 22:48:51 +0300 <gabrielrochab> RT @gumpert_: RT @pussy_riot: Feminism in Russia is not dead!\n",
      "167324630435115008 2012-02-08 22:11:15 +0300 <Dinanewman> best memory from #Moscow @pussy_riot, the funniest punk group ever. While these girls are around, #feminism in Russia is not dead.\n"
     ]
    },
    {
     "name": "stdout",
     "output_type": "stream",
     "text": [
      "127063516925538304 2011-10-20 19:47:57 +0300 <JotunBearclaw> Photo: Feminism in Russia  http://t.co/VETLylzK\n",
      "126569542477553664 2011-10-19 11:05:05 +0300 <ExpMyCulture> The history of feminism in Russia:  http://t.co/uGtX3Hu6 #Feminism\n",
      "126323360065003520 2011-10-18 18:46:50 +0300 <mastaprincess> \"When will Russian women stand up for their rights?\":  http://t.co/oW55Ixv7. #Feminism in Russia has yet to hit its second phase.\n",
      "49581677617479680 2011-03-21 00:22:47 +0300 <FreeTheInternet> RT @gwi_boell About gender censorship and the term feminism in Russia - Interview with Olga Voronina: O...  http://bit.ly/ethdDT #FreeWeb\n",
      "49581402638909440 2011-03-21 00:21:42 +0300 <gwi_boell> About gender censorship and the term feminism in Russia - Interview with Olga Voronina: Olga Voronina, Director ...  http://bit.ly/hXG03L\n",
      "45094717918154752 2011-03-08 15:13:13 +0300 <AllaBallerina> srsly there's no such word as feminism in Russia. I don't say that i'm feminist, but our society has such outdated views on this subject =/\n",
      "15703303898 2010-06-08 15:40:09 +0300 <sonicsonia> Feminism in Russia? Like a sleeping beauty? -  http://viewpoint-east.org/2010/06/08/feminism-in-russia-like-a-sleeping-beauty/\n",
      "10459419479 2010-03-14 09:33:55 +0300 <xDD0Sx> #ECO Russia: Thoughts on March 8, Feminism: Thoughts on March 8 and feminism in Russia and Ukraine ...  http://bit.ly/93taKL #dd0s #ccp #gfw\n",
      "10454658049 2010-03-14 07:19:51 +0300 <playersss> News socialmedia Russia: Thoughts on March 8, Feminism - Thoughts on March 8 and feminism in Russia and Ukraine - a...  http://ow.ly/16Nw1U\n",
      "10448484979 2010-03-14 04:45:24 +0300 <globalvoices> Russia: Thoughts on March 8, Feminism: Thoughts on March 8 and feminism in Russia and Ukraine - at Poemless, Globa...  http://bit.ly/8X7qPs\n",
      "10448124444 2010-03-14 04:35:52 +0300 <sggua> Russia: Thoughts on March 8, Feminism: Thoughts on March 8 and feminism in Russia and Ukraine - at Poe...  http://bit.ly/bsTl1B #world #news\n",
      "1301532845 2009-03-09 21:24:05 +0300 <skirubbi> Just interviewed the lively Beth Holmgren about a new video she produced recounting the history of feminism in Russia:   http://bit.ly/141QsS\n",
      "[!] No more data! Scraping will stop now.\n",
      "found 0 deleted tweets in this search.\n"
     ]
    }
   ],
   "source": [
    "import nest_asyncio\n",
    "nest_asyncio.apply()\n",
    "\n",
    "import twint\n",
    "\n",
    "c = twint.Config()\n",
    "c.Profile_full = True\n",
    "c.location = True\n",
    "c.Search = \"Feminism in Russia\" \n",
    "c.Store_csv = True\n",
    "c.Output = \"rf.csv\"\n",
    "\n",
    "twint.run.Search(c)"
   ]
  },
  {
   "cell_type": "code",
   "execution_count": 5,
   "id": "3dbb3d67",
   "metadata": {},
   "outputs": [],
   "source": [
    "import pandas as pd\n",
    "df = pd.read_csv('rf.csv')"
   ]
  },
  {
   "cell_type": "code",
   "execution_count": 6,
   "id": "5efbc442",
   "metadata": {},
   "outputs": [
    {
     "name": "stdout",
     "output_type": "stream",
     "text": [
      "<class 'pandas.core.frame.DataFrame'>\n",
      "RangeIndex: 620 entries, 0 to 619\n",
      "Data columns (total 36 columns):\n",
      " #   Column           Non-Null Count  Dtype  \n",
      "---  ------           --------------  -----  \n",
      " 0   id               620 non-null    int64  \n",
      " 1   conversation_id  620 non-null    int64  \n",
      " 2   created_at       620 non-null    object \n",
      " 3   date             620 non-null    object \n",
      " 4   time             620 non-null    object \n",
      " 5   timezone         620 non-null    int64  \n",
      " 6   user_id          620 non-null    int64  \n",
      " 7   username         620 non-null    object \n",
      " 8   name             620 non-null    object \n",
      " 9   place            4 non-null      object \n",
      " 10  tweet            620 non-null    object \n",
      " 11  language         620 non-null    object \n",
      " 12  mentions         620 non-null    object \n",
      " 13  urls             620 non-null    object \n",
      " 14  photos           620 non-null    object \n",
      " 15  replies_count    620 non-null    int64  \n",
      " 16  retweets_count   620 non-null    int64  \n",
      " 17  likes_count      620 non-null    int64  \n",
      " 18  hashtags         620 non-null    object \n",
      " 19  cashtags         620 non-null    object \n",
      " 20  link             620 non-null    object \n",
      " 21  retweet          620 non-null    bool   \n",
      " 22  quote_url        32 non-null     object \n",
      " 23  video            620 non-null    int64  \n",
      " 24  thumbnail        66 non-null     object \n",
      " 25  near             0 non-null      float64\n",
      " 26  geo              0 non-null      float64\n",
      " 27  source           0 non-null      float64\n",
      " 28  user_rt_id       0 non-null      float64\n",
      " 29  user_rt          0 non-null      float64\n",
      " 30  retweet_id       0 non-null      float64\n",
      " 31  reply_to         620 non-null    object \n",
      " 32  retweet_date     0 non-null      float64\n",
      " 33  translate        0 non-null      float64\n",
      " 34  trans_src        0 non-null      float64\n",
      " 35  trans_dest       0 non-null      float64\n",
      "dtypes: bool(1), float64(10), int64(8), object(17)\n",
      "memory usage: 170.3+ KB\n"
     ]
    }
   ],
   "source": [
    "df.info()"
   ]
  },
  {
   "cell_type": "code",
   "execution_count": 7,
   "id": "4e78a267",
   "metadata": {},
   "outputs": [
    {
     "data": {
      "text/plain": [
       "'The state of feminism in Russia today.  https://t.co/gMnGX22Oiv'"
      ]
     },
     "execution_count": 7,
     "metadata": {},
     "output_type": "execute_result"
    }
   ],
   "source": [
    "df['tweet'][100]"
   ]
  },
  {
   "cell_type": "code",
   "execution_count": 8,
   "id": "c0c4e916",
   "metadata": {},
   "outputs": [
    {
     "name": "stderr",
     "output_type": "stream",
     "text": [
      "[nltk_data] Downloading package vader_lexicon to\n",
      "[nltk_data]     C:\\Users\\chirl\\AppData\\Roaming\\nltk_data...\n",
      "[nltk_data]   Package vader_lexicon is already up-to-date!\n",
      "[nltk_data] Downloading package words to\n",
      "[nltk_data]     C:\\Users\\chirl\\AppData\\Roaming\\nltk_data...\n",
      "[nltk_data]   Package words is already up-to-date!\n"
     ]
    }
   ],
   "source": [
    "import nltk\n",
    "nltk.download('vader_lexicon')\n",
    "from nltk.sentiment.vader import SentimentIntensityAnalyzer\n",
    "\n",
    "sid = SentimentIntensityAnalyzer()\n",
    "\n",
    "import re\n",
    "import pandas as pd\n",
    "import nltk\n",
    "nltk.download('words')\n",
    "words = set(nltk.corpus.words.words())"
   ]
  },
  {
   "cell_type": "code",
   "execution_count": 9,
   "id": "bb6a4432",
   "metadata": {},
   "outputs": [
    {
     "data": {
      "text/plain": [
       "0.3724"
      ]
     },
     "execution_count": 9,
     "metadata": {},
     "output_type": "execute_result"
    }
   ],
   "source": [
    "sentence = df['tweet'][0]\n",
    "sid.polarity_scores(sentence)['compound']"
   ]
  },
  {
   "cell_type": "code",
   "execution_count": 26,
   "id": "bc0e3a6e",
   "metadata": {},
   "outputs": [],
   "source": [
    "def cleaner(tweet):\n",
    "    tweet = re.sub(\"@[A-Za-z0-9]+\",\"\",tweet) \n",
    "    tweet = re.sub(r\"(?:\\@|http?\\://|https?\\://|www)\\S+\", \"\", tweet) \n",
    "    tweet = \" \".join(tweet.split())\n",
    "    tweet = tweet.replace(\"#\", \"\").replace(\"_\", \" \") \n",
    "    tweet = \" \".join(w for w in nltk.wordpunct_tokenize(tweet)\n",
    "         if w.lower() in words or not w.isalpha())\n",
    "    return tweet\n",
    "    \n",
    "\n",
    "df['tweet_clean'] = df['tweet'].apply(cleaner)"
   ]
  },
  {
   "cell_type": "code",
   "execution_count": 27,
   "id": "bc521c10",
   "metadata": {},
   "outputs": [
    {
     "name": "stderr",
     "output_type": "stream",
     "text": [
      "[nltk_data] Downloading package vader_lexicon to\n",
      "[nltk_data]     C:\\Users\\chirl\\AppData\\Roaming\\nltk_data...\n",
      "[nltk_data]   Package vader_lexicon is already up-to-date!\n"
     ]
    }
   ],
   "source": [
    "#SENTIMENT ANALYSIS\n",
    "\n",
    "import nltk\n",
    "nltk.download('vader_lexicon')\n",
    "from nltk.sentiment.vader import SentimentIntensityAnalyzer\n",
    "\n",
    "sid = SentimentIntensityAnalyzer()\n",
    "\n",
    "list1 = []\n",
    "for i in df['tweet_clean']:\n",
    "    list1.append((sid.polarity_scores(str(i)))['compound'])"
   ]
  },
  {
   "cell_type": "code",
   "execution_count": 28,
   "id": "3b923387",
   "metadata": {},
   "outputs": [],
   "source": [
    "df['sentiment'] = pd.Series(list1)\n",
    "\n",
    "def sentiment_category(sentiment):\n",
    "    label = ''\n",
    "    if(sentiment>0):\n",
    "        label = 'positive'\n",
    "    elif(sentiment == 0):\n",
    "        label = 'neutral'\n",
    "    else:\n",
    "        label = 'negative'\n",
    "    return(label)\n",
    "\n",
    "df['sentiment_category'] = df['sentiment'].apply(sentiment_category)"
   ]
  },
  {
   "cell_type": "code",
   "execution_count": 29,
   "id": "a8994a6c",
   "metadata": {},
   "outputs": [
    {
     "data": {
      "text/html": [
       "<div>\n",
       "<style scoped>\n",
       "    .dataframe tbody tr th:only-of-type {\n",
       "        vertical-align: middle;\n",
       "    }\n",
       "\n",
       "    .dataframe tbody tr th {\n",
       "        vertical-align: top;\n",
       "    }\n",
       "\n",
       "    .dataframe thead th {\n",
       "        text-align: right;\n",
       "    }\n",
       "</style>\n",
       "<table border=\"1\" class=\"dataframe\">\n",
       "  <thead>\n",
       "    <tr style=\"text-align: right;\">\n",
       "      <th></th>\n",
       "      <th>tweet</th>\n",
       "      <th>date</th>\n",
       "      <th>id</th>\n",
       "      <th>sentiment</th>\n",
       "      <th>sentiment_category</th>\n",
       "    </tr>\n",
       "  </thead>\n",
       "  <tbody>\n",
       "    <tr>\n",
       "      <th>0</th>\n",
       "      <td>@sabri44220662 @ninjasniperpon dont forget no ...</td>\n",
       "      <td>2022-03-19</td>\n",
       "      <td>1505241903574523916</td>\n",
       "      <td>0.3724</td>\n",
       "      <td>positive</td>\n",
       "    </tr>\n",
       "    <tr>\n",
       "      <th>1</th>\n",
       "      <td>@RodericDay Like a Zelensky Jew, and Ukraine i...</td>\n",
       "      <td>2022-03-15</td>\n",
       "      <td>1503796267700400128</td>\n",
       "      <td>0.0772</td>\n",
       "      <td>positive</td>\n",
       "    </tr>\n",
       "    <tr>\n",
       "      <th>2</th>\n",
       "      <td>@kkyulmin feminism in Russia in November for E...</td>\n",
       "      <td>2022-03-15</td>\n",
       "      <td>1503758066969366537</td>\n",
       "      <td>0.0000</td>\n",
       "      <td>neutral</td>\n",
       "    </tr>\n",
       "    <tr>\n",
       "      <th>3</th>\n",
       "      <td>I am confused by how social feminism is kind o...</td>\n",
       "      <td>2022-03-12</td>\n",
       "      <td>1502454250114367488</td>\n",
       "      <td>-0.4509</td>\n",
       "      <td>negative</td>\n",
       "    </tr>\n",
       "    <tr>\n",
       "      <th>4</th>\n",
       "      <td>Since there's almost no feminism in Russia, I ...</td>\n",
       "      <td>2022-03-08</td>\n",
       "      <td>1501121653744492548</td>\n",
       "      <td>-0.4779</td>\n",
       "      <td>negative</td>\n",
       "    </tr>\n",
       "  </tbody>\n",
       "</table>\n",
       "</div>"
      ],
      "text/plain": [
       "                                               tweet        date  \\\n",
       "0  @sabri44220662 @ninjasniperpon dont forget no ...  2022-03-19   \n",
       "1  @RodericDay Like a Zelensky Jew, and Ukraine i...  2022-03-15   \n",
       "2  @kkyulmin feminism in Russia in November for E...  2022-03-15   \n",
       "3  I am confused by how social feminism is kind o...  2022-03-12   \n",
       "4  Since there's almost no feminism in Russia, I ...  2022-03-08   \n",
       "\n",
       "                    id  sentiment sentiment_category  \n",
       "0  1505241903574523916     0.3724           positive  \n",
       "1  1503796267700400128     0.0772           positive  \n",
       "2  1503758066969366537     0.0000            neutral  \n",
       "3  1502454250114367488    -0.4509           negative  \n",
       "4  1501121653744492548    -0.4779           negative  "
      ]
     },
     "execution_count": 29,
     "metadata": {},
     "output_type": "execute_result"
    }
   ],
   "source": [
    "df = df[['tweet', 'date','id','sentiment','sentiment_category']]\n",
    "df.head()"
   ]
  },
  {
   "cell_type": "code",
   "execution_count": 30,
   "id": "0968ed1a",
   "metadata": {},
   "outputs": [],
   "source": [
    "df.to_csv('rf_sa.csv')"
   ]
  },
  {
   "cell_type": "code",
   "execution_count": 31,
   "id": "8b6a47fa",
   "metadata": {},
   "outputs": [],
   "source": [
    "#VISULISATION\n",
    "\n",
    "neg = df[df['sentiment_category']=='negative']\n",
    "neg = neg.groupby(['date'],as_index=False).count()\n",
    "\n",
    "pos = df[df['sentiment_category']=='positive']\n",
    "pos = pos.groupby(['date'],as_index=False).count()\n",
    "\n",
    "pos = pos[['date','id']]\n",
    "neg = neg[['date','id']]"
   ]
  },
  {
   "cell_type": "code",
   "execution_count": 32,
   "id": "fe7a4b80",
   "metadata": {},
   "outputs": [
    {
     "name": "stdout",
     "output_type": "stream",
     "text": [
      "Collecting package metadata (current_repodata.json): ...working... done\n",
      "Solving environment: ...working... done\n",
      "\n",
      "# All requested packages already installed.\n",
      "\n"
     ]
    }
   ],
   "source": [
    "import sys\n",
    "!conda install --yes --prefix {sys.prefix} plotly"
   ]
  },
  {
   "cell_type": "code",
   "execution_count": 33,
   "id": "fd1a3952",
   "metadata": {},
   "outputs": [
    {
     "data": {
      "application/vnd.plotly.v1+json": {
       "config": {
        "plotlyServerURL": "https://plot.ly"
       },
       "data": [
        {
         "connectgaps": true,
         "line": {
          "color": "green",
          "shape": "linear"
         },
         "mode": "markers+lines",
         "name": "date",
         "type": "scatter",
         "x": [
          "2009-03-09",
          "2010-06-08",
          "2012-02-08",
          "2012-08-05",
          "2012-08-08",
          "2012-08-15",
          "2012-08-16",
          "2012-08-17",
          "2012-08-21",
          "2013-04-11",
          "2013-04-12",
          "2013-06-16",
          "2013-08-11",
          "2013-08-13",
          "2013-12-12",
          "2014-01-18",
          "2014-04-05",
          "2014-06-20",
          "2014-11-20",
          "2015-03-04",
          "2015-03-09",
          "2015-07-29",
          "2015-10-29",
          "2015-12-02",
          "2016-12-12",
          "2017-01-15",
          "2017-03-15",
          "2017-04-05",
          "2017-05-18",
          "2017-07-06",
          "2017-08-19",
          "2017-11-25",
          "2017-11-28",
          "2018-01-07",
          "2018-01-12",
          "2018-02-09",
          "2018-02-25",
          "2018-02-26",
          "2018-03-09",
          "2018-05-01",
          "2018-05-06",
          "2018-06-06",
          "2018-06-21",
          "2018-07-17",
          "2019-02-08",
          "2019-03-08",
          "2019-03-15",
          "2019-04-13",
          "2019-04-17",
          "2019-06-05",
          "2019-06-07",
          "2019-07-17",
          "2019-09-23",
          "2019-10-12",
          "2019-11-23",
          "2019-12-30",
          "2020-01-22",
          "2020-02-02",
          "2020-03-06",
          "2020-06-22",
          "2020-07-21",
          "2020-09-05",
          "2020-09-17",
          "2020-09-22",
          "2020-10-17",
          "2020-10-26",
          "2020-10-28",
          "2020-10-29",
          "2020-10-30",
          "2020-11-01",
          "2020-11-02",
          "2020-11-06",
          "2021-01-09",
          "2021-03-17",
          "2021-05-12",
          "2021-07-07",
          "2021-07-12",
          "2021-09-09",
          "2021-10-15",
          "2022-03-15",
          "2022-03-19"
         ],
         "y": [
          2,
          2,
          2,
          2,
          2,
          2,
          2,
          4,
          2,
          4,
          2,
          2,
          2,
          2,
          2,
          2,
          2,
          2,
          2,
          2,
          2,
          2,
          2,
          2,
          2,
          2,
          4,
          2,
          2,
          2,
          2,
          2,
          2,
          2,
          2,
          2,
          2,
          2,
          2,
          2,
          2,
          2,
          2,
          2,
          2,
          2,
          2,
          2,
          2,
          2,
          2,
          2,
          2,
          2,
          2,
          2,
          2,
          2,
          2,
          2,
          2,
          4,
          2,
          2,
          2,
          2,
          2,
          2,
          2,
          2,
          4,
          2,
          2,
          2,
          2,
          2,
          2,
          2,
          2,
          2,
          2
         ]
        },
        {
         "connectgaps": true,
         "line": {
          "color": "green",
          "shape": "linear"
         },
         "mode": "markers+lines",
         "name": "id",
         "type": "scatter",
         "x": [
          "2009-03-09",
          "2010-06-08",
          "2012-02-08",
          "2012-08-05",
          "2012-08-08",
          "2012-08-15",
          "2012-08-16",
          "2012-08-17",
          "2012-08-21",
          "2013-04-11",
          "2013-04-12",
          "2013-06-16",
          "2013-08-11",
          "2013-08-13",
          "2013-12-12",
          "2014-01-18",
          "2014-04-05",
          "2014-06-20",
          "2014-11-20",
          "2015-03-04",
          "2015-03-09",
          "2015-07-29",
          "2015-10-29",
          "2015-12-02",
          "2016-12-12",
          "2017-01-15",
          "2017-03-15",
          "2017-04-05",
          "2017-05-18",
          "2017-07-06",
          "2017-08-19",
          "2017-11-25",
          "2017-11-28",
          "2018-01-07",
          "2018-01-12",
          "2018-02-09",
          "2018-02-25",
          "2018-02-26",
          "2018-03-09",
          "2018-05-01",
          "2018-05-06",
          "2018-06-06",
          "2018-06-21",
          "2018-07-17",
          "2019-02-08",
          "2019-03-08",
          "2019-03-15",
          "2019-04-13",
          "2019-04-17",
          "2019-06-05",
          "2019-06-07",
          "2019-07-17",
          "2019-09-23",
          "2019-10-12",
          "2019-11-23",
          "2019-12-30",
          "2020-01-22",
          "2020-02-02",
          "2020-03-06",
          "2020-06-22",
          "2020-07-21",
          "2020-09-05",
          "2020-09-17",
          "2020-09-22",
          "2020-10-17",
          "2020-10-26",
          "2020-10-28",
          "2020-10-29",
          "2020-10-30",
          "2020-11-01",
          "2020-11-02",
          "2020-11-06",
          "2021-01-09",
          "2021-03-17",
          "2021-05-12",
          "2021-07-07",
          "2021-07-12",
          "2021-09-09",
          "2021-10-15",
          "2022-03-15",
          "2022-03-19"
         ],
         "y": [
          2,
          2,
          2,
          2,
          2,
          2,
          2,
          4,
          2,
          4,
          2,
          2,
          2,
          2,
          2,
          2,
          2,
          2,
          2,
          2,
          2,
          2,
          2,
          2,
          2,
          2,
          4,
          2,
          2,
          2,
          2,
          2,
          2,
          2,
          2,
          2,
          2,
          2,
          2,
          2,
          2,
          2,
          2,
          2,
          2,
          2,
          2,
          2,
          2,
          2,
          2,
          2,
          2,
          2,
          2,
          2,
          2,
          2,
          2,
          2,
          2,
          4,
          2,
          2,
          2,
          2,
          2,
          2,
          2,
          2,
          4,
          2,
          2,
          2,
          2,
          2,
          2,
          2,
          2,
          2,
          2
         ]
        },
        {
         "connectgaps": true,
         "line": {
          "color": "red",
          "shape": "linear"
         },
         "mode": "markers+lines",
         "name": "date",
         "type": "scatter",
         "x": [
          "2011-03-08",
          "2012-02-08",
          "2012-03-02",
          "2012-08-15",
          "2012-08-16",
          "2012-08-17",
          "2012-08-18",
          "2012-08-20",
          "2012-08-21",
          "2012-08-29",
          "2012-08-30",
          "2012-09-03",
          "2012-09-08",
          "2012-10-24",
          "2013-02-12",
          "2013-03-11",
          "2013-11-09",
          "2014-02-20",
          "2014-05-08",
          "2014-11-15",
          "2015-03-04",
          "2015-08-20",
          "2015-09-26",
          "2015-12-02",
          "2016-04-20",
          "2016-04-25",
          "2016-11-08",
          "2016-12-24",
          "2017-01-05",
          "2017-06-07",
          "2017-08-21",
          "2017-08-28",
          "2017-10-13",
          "2017-11-29",
          "2017-12-06",
          "2017-12-16",
          "2018-01-12",
          "2018-02-21",
          "2018-02-22",
          "2018-02-27",
          "2018-04-05",
          "2018-04-10",
          "2018-06-21",
          "2018-09-21",
          "2018-09-26",
          "2018-09-27",
          "2018-09-28",
          "2018-09-29",
          "2018-09-30",
          "2018-11-06",
          "2019-01-15",
          "2019-03-29",
          "2019-04-01",
          "2019-06-23",
          "2019-09-14",
          "2019-09-18",
          "2019-09-30",
          "2020-01-04",
          "2020-03-07",
          "2020-06-03",
          "2020-07-09",
          "2020-07-12",
          "2020-07-19",
          "2020-07-26",
          "2020-08-22",
          "2020-09-17",
          "2021-07-23",
          "2021-09-02",
          "2021-09-16",
          "2021-10-10",
          "2022-02-25",
          "2022-03-08",
          "2022-03-12"
         ],
         "y": [
          2,
          2,
          2,
          32,
          22,
          16,
          8,
          2,
          4,
          2,
          2,
          2,
          2,
          2,
          4,
          2,
          2,
          2,
          2,
          2,
          2,
          2,
          2,
          2,
          2,
          2,
          2,
          2,
          2,
          2,
          2,
          2,
          2,
          2,
          2,
          4,
          2,
          2,
          2,
          2,
          2,
          2,
          2,
          2,
          2,
          2,
          4,
          4,
          2,
          2,
          2,
          4,
          2,
          2,
          2,
          2,
          2,
          2,
          2,
          2,
          2,
          2,
          2,
          2,
          2,
          2,
          2,
          2,
          2,
          2,
          2,
          2,
          2
         ]
        },
        {
         "connectgaps": true,
         "line": {
          "color": "red",
          "shape": "linear"
         },
         "mode": "markers+lines",
         "name": "id",
         "type": "scatter",
         "x": [
          "2011-03-08",
          "2012-02-08",
          "2012-03-02",
          "2012-08-15",
          "2012-08-16",
          "2012-08-17",
          "2012-08-18",
          "2012-08-20",
          "2012-08-21",
          "2012-08-29",
          "2012-08-30",
          "2012-09-03",
          "2012-09-08",
          "2012-10-24",
          "2013-02-12",
          "2013-03-11",
          "2013-11-09",
          "2014-02-20",
          "2014-05-08",
          "2014-11-15",
          "2015-03-04",
          "2015-08-20",
          "2015-09-26",
          "2015-12-02",
          "2016-04-20",
          "2016-04-25",
          "2016-11-08",
          "2016-12-24",
          "2017-01-05",
          "2017-06-07",
          "2017-08-21",
          "2017-08-28",
          "2017-10-13",
          "2017-11-29",
          "2017-12-06",
          "2017-12-16",
          "2018-01-12",
          "2018-02-21",
          "2018-02-22",
          "2018-02-27",
          "2018-04-05",
          "2018-04-10",
          "2018-06-21",
          "2018-09-21",
          "2018-09-26",
          "2018-09-27",
          "2018-09-28",
          "2018-09-29",
          "2018-09-30",
          "2018-11-06",
          "2019-01-15",
          "2019-03-29",
          "2019-04-01",
          "2019-06-23",
          "2019-09-14",
          "2019-09-18",
          "2019-09-30",
          "2020-01-04",
          "2020-03-07",
          "2020-06-03",
          "2020-07-09",
          "2020-07-12",
          "2020-07-19",
          "2020-07-26",
          "2020-08-22",
          "2020-09-17",
          "2021-07-23",
          "2021-09-02",
          "2021-09-16",
          "2021-10-10",
          "2022-02-25",
          "2022-03-08",
          "2022-03-12"
         ],
         "y": [
          2,
          2,
          2,
          32,
          22,
          16,
          8,
          2,
          4,
          2,
          2,
          2,
          2,
          2,
          4,
          2,
          2,
          2,
          2,
          2,
          2,
          2,
          2,
          2,
          2,
          2,
          2,
          2,
          2,
          2,
          2,
          2,
          2,
          2,
          2,
          4,
          2,
          2,
          2,
          2,
          2,
          2,
          2,
          2,
          2,
          2,
          4,
          4,
          2,
          2,
          2,
          4,
          2,
          2,
          2,
          2,
          2,
          2,
          2,
          2,
          2,
          2,
          2,
          2,
          2,
          2,
          2,
          2,
          2,
          2,
          2,
          2,
          2
         ]
        }
       ],
       "layout": {
        "template": {
         "data": {
          "bar": [
           {
            "error_x": {
             "color": "#2a3f5f"
            },
            "error_y": {
             "color": "#2a3f5f"
            },
            "marker": {
             "line": {
              "color": "#E5ECF6",
              "width": 0.5
             },
             "pattern": {
              "fillmode": "overlay",
              "size": 10,
              "solidity": 0.2
             }
            },
            "type": "bar"
           }
          ],
          "barpolar": [
           {
            "marker": {
             "line": {
              "color": "#E5ECF6",
              "width": 0.5
             },
             "pattern": {
              "fillmode": "overlay",
              "size": 10,
              "solidity": 0.2
             }
            },
            "type": "barpolar"
           }
          ],
          "carpet": [
           {
            "aaxis": {
             "endlinecolor": "#2a3f5f",
             "gridcolor": "white",
             "linecolor": "white",
             "minorgridcolor": "white",
             "startlinecolor": "#2a3f5f"
            },
            "baxis": {
             "endlinecolor": "#2a3f5f",
             "gridcolor": "white",
             "linecolor": "white",
             "minorgridcolor": "white",
             "startlinecolor": "#2a3f5f"
            },
            "type": "carpet"
           }
          ],
          "choropleth": [
           {
            "colorbar": {
             "outlinewidth": 0,
             "ticks": ""
            },
            "type": "choropleth"
           }
          ],
          "contour": [
           {
            "colorbar": {
             "outlinewidth": 0,
             "ticks": ""
            },
            "colorscale": [
             [
              0,
              "#0d0887"
             ],
             [
              0.1111111111111111,
              "#46039f"
             ],
             [
              0.2222222222222222,
              "#7201a8"
             ],
             [
              0.3333333333333333,
              "#9c179e"
             ],
             [
              0.4444444444444444,
              "#bd3786"
             ],
             [
              0.5555555555555556,
              "#d8576b"
             ],
             [
              0.6666666666666666,
              "#ed7953"
             ],
             [
              0.7777777777777778,
              "#fb9f3a"
             ],
             [
              0.8888888888888888,
              "#fdca26"
             ],
             [
              1,
              "#f0f921"
             ]
            ],
            "type": "contour"
           }
          ],
          "contourcarpet": [
           {
            "colorbar": {
             "outlinewidth": 0,
             "ticks": ""
            },
            "type": "contourcarpet"
           }
          ],
          "heatmap": [
           {
            "colorbar": {
             "outlinewidth": 0,
             "ticks": ""
            },
            "colorscale": [
             [
              0,
              "#0d0887"
             ],
             [
              0.1111111111111111,
              "#46039f"
             ],
             [
              0.2222222222222222,
              "#7201a8"
             ],
             [
              0.3333333333333333,
              "#9c179e"
             ],
             [
              0.4444444444444444,
              "#bd3786"
             ],
             [
              0.5555555555555556,
              "#d8576b"
             ],
             [
              0.6666666666666666,
              "#ed7953"
             ],
             [
              0.7777777777777778,
              "#fb9f3a"
             ],
             [
              0.8888888888888888,
              "#fdca26"
             ],
             [
              1,
              "#f0f921"
             ]
            ],
            "type": "heatmap"
           }
          ],
          "heatmapgl": [
           {
            "colorbar": {
             "outlinewidth": 0,
             "ticks": ""
            },
            "colorscale": [
             [
              0,
              "#0d0887"
             ],
             [
              0.1111111111111111,
              "#46039f"
             ],
             [
              0.2222222222222222,
              "#7201a8"
             ],
             [
              0.3333333333333333,
              "#9c179e"
             ],
             [
              0.4444444444444444,
              "#bd3786"
             ],
             [
              0.5555555555555556,
              "#d8576b"
             ],
             [
              0.6666666666666666,
              "#ed7953"
             ],
             [
              0.7777777777777778,
              "#fb9f3a"
             ],
             [
              0.8888888888888888,
              "#fdca26"
             ],
             [
              1,
              "#f0f921"
             ]
            ],
            "type": "heatmapgl"
           }
          ],
          "histogram": [
           {
            "marker": {
             "pattern": {
              "fillmode": "overlay",
              "size": 10,
              "solidity": 0.2
             }
            },
            "type": "histogram"
           }
          ],
          "histogram2d": [
           {
            "colorbar": {
             "outlinewidth": 0,
             "ticks": ""
            },
            "colorscale": [
             [
              0,
              "#0d0887"
             ],
             [
              0.1111111111111111,
              "#46039f"
             ],
             [
              0.2222222222222222,
              "#7201a8"
             ],
             [
              0.3333333333333333,
              "#9c179e"
             ],
             [
              0.4444444444444444,
              "#bd3786"
             ],
             [
              0.5555555555555556,
              "#d8576b"
             ],
             [
              0.6666666666666666,
              "#ed7953"
             ],
             [
              0.7777777777777778,
              "#fb9f3a"
             ],
             [
              0.8888888888888888,
              "#fdca26"
             ],
             [
              1,
              "#f0f921"
             ]
            ],
            "type": "histogram2d"
           }
          ],
          "histogram2dcontour": [
           {
            "colorbar": {
             "outlinewidth": 0,
             "ticks": ""
            },
            "colorscale": [
             [
              0,
              "#0d0887"
             ],
             [
              0.1111111111111111,
              "#46039f"
             ],
             [
              0.2222222222222222,
              "#7201a8"
             ],
             [
              0.3333333333333333,
              "#9c179e"
             ],
             [
              0.4444444444444444,
              "#bd3786"
             ],
             [
              0.5555555555555556,
              "#d8576b"
             ],
             [
              0.6666666666666666,
              "#ed7953"
             ],
             [
              0.7777777777777778,
              "#fb9f3a"
             ],
             [
              0.8888888888888888,
              "#fdca26"
             ],
             [
              1,
              "#f0f921"
             ]
            ],
            "type": "histogram2dcontour"
           }
          ],
          "mesh3d": [
           {
            "colorbar": {
             "outlinewidth": 0,
             "ticks": ""
            },
            "type": "mesh3d"
           }
          ],
          "parcoords": [
           {
            "line": {
             "colorbar": {
              "outlinewidth": 0,
              "ticks": ""
             }
            },
            "type": "parcoords"
           }
          ],
          "pie": [
           {
            "automargin": true,
            "type": "pie"
           }
          ],
          "scatter": [
           {
            "marker": {
             "colorbar": {
              "outlinewidth": 0,
              "ticks": ""
             }
            },
            "type": "scatter"
           }
          ],
          "scatter3d": [
           {
            "line": {
             "colorbar": {
              "outlinewidth": 0,
              "ticks": ""
             }
            },
            "marker": {
             "colorbar": {
              "outlinewidth": 0,
              "ticks": ""
             }
            },
            "type": "scatter3d"
           }
          ],
          "scattercarpet": [
           {
            "marker": {
             "colorbar": {
              "outlinewidth": 0,
              "ticks": ""
             }
            },
            "type": "scattercarpet"
           }
          ],
          "scattergeo": [
           {
            "marker": {
             "colorbar": {
              "outlinewidth": 0,
              "ticks": ""
             }
            },
            "type": "scattergeo"
           }
          ],
          "scattergl": [
           {
            "marker": {
             "colorbar": {
              "outlinewidth": 0,
              "ticks": ""
             }
            },
            "type": "scattergl"
           }
          ],
          "scattermapbox": [
           {
            "marker": {
             "colorbar": {
              "outlinewidth": 0,
              "ticks": ""
             }
            },
            "type": "scattermapbox"
           }
          ],
          "scatterpolar": [
           {
            "marker": {
             "colorbar": {
              "outlinewidth": 0,
              "ticks": ""
             }
            },
            "type": "scatterpolar"
           }
          ],
          "scatterpolargl": [
           {
            "marker": {
             "colorbar": {
              "outlinewidth": 0,
              "ticks": ""
             }
            },
            "type": "scatterpolargl"
           }
          ],
          "scatterternary": [
           {
            "marker": {
             "colorbar": {
              "outlinewidth": 0,
              "ticks": ""
             }
            },
            "type": "scatterternary"
           }
          ],
          "surface": [
           {
            "colorbar": {
             "outlinewidth": 0,
             "ticks": ""
            },
            "colorscale": [
             [
              0,
              "#0d0887"
             ],
             [
              0.1111111111111111,
              "#46039f"
             ],
             [
              0.2222222222222222,
              "#7201a8"
             ],
             [
              0.3333333333333333,
              "#9c179e"
             ],
             [
              0.4444444444444444,
              "#bd3786"
             ],
             [
              0.5555555555555556,
              "#d8576b"
             ],
             [
              0.6666666666666666,
              "#ed7953"
             ],
             [
              0.7777777777777778,
              "#fb9f3a"
             ],
             [
              0.8888888888888888,
              "#fdca26"
             ],
             [
              1,
              "#f0f921"
             ]
            ],
            "type": "surface"
           }
          ],
          "table": [
           {
            "cells": {
             "fill": {
              "color": "#EBF0F8"
             },
             "line": {
              "color": "white"
             }
            },
            "header": {
             "fill": {
              "color": "#C8D4E3"
             },
             "line": {
              "color": "white"
             }
            },
            "type": "table"
           }
          ]
         },
         "layout": {
          "annotationdefaults": {
           "arrowcolor": "#2a3f5f",
           "arrowhead": 0,
           "arrowwidth": 1
          },
          "autotypenumbers": "strict",
          "coloraxis": {
           "colorbar": {
            "outlinewidth": 0,
            "ticks": ""
           }
          },
          "colorscale": {
           "diverging": [
            [
             0,
             "#8e0152"
            ],
            [
             0.1,
             "#c51b7d"
            ],
            [
             0.2,
             "#de77ae"
            ],
            [
             0.3,
             "#f1b6da"
            ],
            [
             0.4,
             "#fde0ef"
            ],
            [
             0.5,
             "#f7f7f7"
            ],
            [
             0.6,
             "#e6f5d0"
            ],
            [
             0.7,
             "#b8e186"
            ],
            [
             0.8,
             "#7fbc41"
            ],
            [
             0.9,
             "#4d9221"
            ],
            [
             1,
             "#276419"
            ]
           ],
           "sequential": [
            [
             0,
             "#0d0887"
            ],
            [
             0.1111111111111111,
             "#46039f"
            ],
            [
             0.2222222222222222,
             "#7201a8"
            ],
            [
             0.3333333333333333,
             "#9c179e"
            ],
            [
             0.4444444444444444,
             "#bd3786"
            ],
            [
             0.5555555555555556,
             "#d8576b"
            ],
            [
             0.6666666666666666,
             "#ed7953"
            ],
            [
             0.7777777777777778,
             "#fb9f3a"
            ],
            [
             0.8888888888888888,
             "#fdca26"
            ],
            [
             1,
             "#f0f921"
            ]
           ],
           "sequentialminus": [
            [
             0,
             "#0d0887"
            ],
            [
             0.1111111111111111,
             "#46039f"
            ],
            [
             0.2222222222222222,
             "#7201a8"
            ],
            [
             0.3333333333333333,
             "#9c179e"
            ],
            [
             0.4444444444444444,
             "#bd3786"
            ],
            [
             0.5555555555555556,
             "#d8576b"
            ],
            [
             0.6666666666666666,
             "#ed7953"
            ],
            [
             0.7777777777777778,
             "#fb9f3a"
            ],
            [
             0.8888888888888888,
             "#fdca26"
            ],
            [
             1,
             "#f0f921"
            ]
           ]
          },
          "colorway": [
           "#636efa",
           "#EF553B",
           "#00cc96",
           "#ab63fa",
           "#FFA15A",
           "#19d3f3",
           "#FF6692",
           "#B6E880",
           "#FF97FF",
           "#FECB52"
          ],
          "font": {
           "color": "#2a3f5f"
          },
          "geo": {
           "bgcolor": "white",
           "lakecolor": "white",
           "landcolor": "#E5ECF6",
           "showlakes": true,
           "showland": true,
           "subunitcolor": "white"
          },
          "hoverlabel": {
           "align": "left"
          },
          "hovermode": "closest",
          "mapbox": {
           "style": "light"
          },
          "paper_bgcolor": "white",
          "plot_bgcolor": "#E5ECF6",
          "polar": {
           "angularaxis": {
            "gridcolor": "white",
            "linecolor": "white",
            "ticks": ""
           },
           "bgcolor": "#E5ECF6",
           "radialaxis": {
            "gridcolor": "white",
            "linecolor": "white",
            "ticks": ""
           }
          },
          "scene": {
           "xaxis": {
            "backgroundcolor": "#E5ECF6",
            "gridcolor": "white",
            "gridwidth": 2,
            "linecolor": "white",
            "showbackground": true,
            "ticks": "",
            "zerolinecolor": "white"
           },
           "yaxis": {
            "backgroundcolor": "#E5ECF6",
            "gridcolor": "white",
            "gridwidth": 2,
            "linecolor": "white",
            "showbackground": true,
            "ticks": "",
            "zerolinecolor": "white"
           },
           "zaxis": {
            "backgroundcolor": "#E5ECF6",
            "gridcolor": "white",
            "gridwidth": 2,
            "linecolor": "white",
            "showbackground": true,
            "ticks": "",
            "zerolinecolor": "white"
           }
          },
          "shapedefaults": {
           "line": {
            "color": "#2a3f5f"
           }
          },
          "ternary": {
           "aaxis": {
            "gridcolor": "white",
            "linecolor": "white",
            "ticks": ""
           },
           "baxis": {
            "gridcolor": "white",
            "linecolor": "white",
            "ticks": ""
           },
           "bgcolor": "#E5ECF6",
           "caxis": {
            "gridcolor": "white",
            "linecolor": "white",
            "ticks": ""
           }
          },
          "title": {
           "x": 0.05
          },
          "xaxis": {
           "automargin": true,
           "gridcolor": "white",
           "linecolor": "white",
           "ticks": "",
           "title": {
            "standoff": 15
           },
           "zerolinecolor": "white",
           "zerolinewidth": 2
          },
          "yaxis": {
           "automargin": true,
           "gridcolor": "white",
           "linecolor": "white",
           "ticks": "",
           "title": {
            "standoff": 15
           },
           "zerolinecolor": "white",
           "zerolinewidth": 2
          }
         }
        }
       }
      },
      "text/html": [
       "<div>                            <div id=\"0de08825-7258-47e8-90be-b494d99f98e6\" class=\"plotly-graph-div\" style=\"height:525px; width:100%;\"></div>            <script type=\"text/javascript\">                require([\"plotly\"], function(Plotly) {                    window.PLOTLYENV=window.PLOTLYENV || {};                                    if (document.getElementById(\"0de08825-7258-47e8-90be-b494d99f98e6\")) {                    Plotly.newPlot(                        \"0de08825-7258-47e8-90be-b494d99f98e6\",                        [{\"connectgaps\":true,\"line\":{\"color\":\"green\",\"shape\":\"linear\"},\"mode\":\"markers+lines\",\"name\":\"date\",\"x\":[\"2009-03-09\",\"2010-06-08\",\"2012-02-08\",\"2012-08-05\",\"2012-08-08\",\"2012-08-15\",\"2012-08-16\",\"2012-08-17\",\"2012-08-21\",\"2013-04-11\",\"2013-04-12\",\"2013-06-16\",\"2013-08-11\",\"2013-08-13\",\"2013-12-12\",\"2014-01-18\",\"2014-04-05\",\"2014-06-20\",\"2014-11-20\",\"2015-03-04\",\"2015-03-09\",\"2015-07-29\",\"2015-10-29\",\"2015-12-02\",\"2016-12-12\",\"2017-01-15\",\"2017-03-15\",\"2017-04-05\",\"2017-05-18\",\"2017-07-06\",\"2017-08-19\",\"2017-11-25\",\"2017-11-28\",\"2018-01-07\",\"2018-01-12\",\"2018-02-09\",\"2018-02-25\",\"2018-02-26\",\"2018-03-09\",\"2018-05-01\",\"2018-05-06\",\"2018-06-06\",\"2018-06-21\",\"2018-07-17\",\"2019-02-08\",\"2019-03-08\",\"2019-03-15\",\"2019-04-13\",\"2019-04-17\",\"2019-06-05\",\"2019-06-07\",\"2019-07-17\",\"2019-09-23\",\"2019-10-12\",\"2019-11-23\",\"2019-12-30\",\"2020-01-22\",\"2020-02-02\",\"2020-03-06\",\"2020-06-22\",\"2020-07-21\",\"2020-09-05\",\"2020-09-17\",\"2020-09-22\",\"2020-10-17\",\"2020-10-26\",\"2020-10-28\",\"2020-10-29\",\"2020-10-30\",\"2020-11-01\",\"2020-11-02\",\"2020-11-06\",\"2021-01-09\",\"2021-03-17\",\"2021-05-12\",\"2021-07-07\",\"2021-07-12\",\"2021-09-09\",\"2021-10-15\",\"2022-03-15\",\"2022-03-19\"],\"y\":[2,2,2,2,2,2,2,4,2,4,2,2,2,2,2,2,2,2,2,2,2,2,2,2,2,2,4,2,2,2,2,2,2,2,2,2,2,2,2,2,2,2,2,2,2,2,2,2,2,2,2,2,2,2,2,2,2,2,2,2,2,4,2,2,2,2,2,2,2,2,4,2,2,2,2,2,2,2,2,2,2],\"type\":\"scatter\"},{\"connectgaps\":true,\"line\":{\"color\":\"green\",\"shape\":\"linear\"},\"mode\":\"markers+lines\",\"name\":\"id\",\"x\":[\"2009-03-09\",\"2010-06-08\",\"2012-02-08\",\"2012-08-05\",\"2012-08-08\",\"2012-08-15\",\"2012-08-16\",\"2012-08-17\",\"2012-08-21\",\"2013-04-11\",\"2013-04-12\",\"2013-06-16\",\"2013-08-11\",\"2013-08-13\",\"2013-12-12\",\"2014-01-18\",\"2014-04-05\",\"2014-06-20\",\"2014-11-20\",\"2015-03-04\",\"2015-03-09\",\"2015-07-29\",\"2015-10-29\",\"2015-12-02\",\"2016-12-12\",\"2017-01-15\",\"2017-03-15\",\"2017-04-05\",\"2017-05-18\",\"2017-07-06\",\"2017-08-19\",\"2017-11-25\",\"2017-11-28\",\"2018-01-07\",\"2018-01-12\",\"2018-02-09\",\"2018-02-25\",\"2018-02-26\",\"2018-03-09\",\"2018-05-01\",\"2018-05-06\",\"2018-06-06\",\"2018-06-21\",\"2018-07-17\",\"2019-02-08\",\"2019-03-08\",\"2019-03-15\",\"2019-04-13\",\"2019-04-17\",\"2019-06-05\",\"2019-06-07\",\"2019-07-17\",\"2019-09-23\",\"2019-10-12\",\"2019-11-23\",\"2019-12-30\",\"2020-01-22\",\"2020-02-02\",\"2020-03-06\",\"2020-06-22\",\"2020-07-21\",\"2020-09-05\",\"2020-09-17\",\"2020-09-22\",\"2020-10-17\",\"2020-10-26\",\"2020-10-28\",\"2020-10-29\",\"2020-10-30\",\"2020-11-01\",\"2020-11-02\",\"2020-11-06\",\"2021-01-09\",\"2021-03-17\",\"2021-05-12\",\"2021-07-07\",\"2021-07-12\",\"2021-09-09\",\"2021-10-15\",\"2022-03-15\",\"2022-03-19\"],\"y\":[2,2,2,2,2,2,2,4,2,4,2,2,2,2,2,2,2,2,2,2,2,2,2,2,2,2,4,2,2,2,2,2,2,2,2,2,2,2,2,2,2,2,2,2,2,2,2,2,2,2,2,2,2,2,2,2,2,2,2,2,2,4,2,2,2,2,2,2,2,2,4,2,2,2,2,2,2,2,2,2,2],\"type\":\"scatter\"},{\"connectgaps\":true,\"line\":{\"color\":\"red\",\"shape\":\"linear\"},\"mode\":\"markers+lines\",\"name\":\"date\",\"x\":[\"2011-03-08\",\"2012-02-08\",\"2012-03-02\",\"2012-08-15\",\"2012-08-16\",\"2012-08-17\",\"2012-08-18\",\"2012-08-20\",\"2012-08-21\",\"2012-08-29\",\"2012-08-30\",\"2012-09-03\",\"2012-09-08\",\"2012-10-24\",\"2013-02-12\",\"2013-03-11\",\"2013-11-09\",\"2014-02-20\",\"2014-05-08\",\"2014-11-15\",\"2015-03-04\",\"2015-08-20\",\"2015-09-26\",\"2015-12-02\",\"2016-04-20\",\"2016-04-25\",\"2016-11-08\",\"2016-12-24\",\"2017-01-05\",\"2017-06-07\",\"2017-08-21\",\"2017-08-28\",\"2017-10-13\",\"2017-11-29\",\"2017-12-06\",\"2017-12-16\",\"2018-01-12\",\"2018-02-21\",\"2018-02-22\",\"2018-02-27\",\"2018-04-05\",\"2018-04-10\",\"2018-06-21\",\"2018-09-21\",\"2018-09-26\",\"2018-09-27\",\"2018-09-28\",\"2018-09-29\",\"2018-09-30\",\"2018-11-06\",\"2019-01-15\",\"2019-03-29\",\"2019-04-01\",\"2019-06-23\",\"2019-09-14\",\"2019-09-18\",\"2019-09-30\",\"2020-01-04\",\"2020-03-07\",\"2020-06-03\",\"2020-07-09\",\"2020-07-12\",\"2020-07-19\",\"2020-07-26\",\"2020-08-22\",\"2020-09-17\",\"2021-07-23\",\"2021-09-02\",\"2021-09-16\",\"2021-10-10\",\"2022-02-25\",\"2022-03-08\",\"2022-03-12\"],\"y\":[2,2,2,32,22,16,8,2,4,2,2,2,2,2,4,2,2,2,2,2,2,2,2,2,2,2,2,2,2,2,2,2,2,2,2,4,2,2,2,2,2,2,2,2,2,2,4,4,2,2,2,4,2,2,2,2,2,2,2,2,2,2,2,2,2,2,2,2,2,2,2,2,2],\"type\":\"scatter\"},{\"connectgaps\":true,\"line\":{\"color\":\"red\",\"shape\":\"linear\"},\"mode\":\"markers+lines\",\"name\":\"id\",\"x\":[\"2011-03-08\",\"2012-02-08\",\"2012-03-02\",\"2012-08-15\",\"2012-08-16\",\"2012-08-17\",\"2012-08-18\",\"2012-08-20\",\"2012-08-21\",\"2012-08-29\",\"2012-08-30\",\"2012-09-03\",\"2012-09-08\",\"2012-10-24\",\"2013-02-12\",\"2013-03-11\",\"2013-11-09\",\"2014-02-20\",\"2014-05-08\",\"2014-11-15\",\"2015-03-04\",\"2015-08-20\",\"2015-09-26\",\"2015-12-02\",\"2016-04-20\",\"2016-04-25\",\"2016-11-08\",\"2016-12-24\",\"2017-01-05\",\"2017-06-07\",\"2017-08-21\",\"2017-08-28\",\"2017-10-13\",\"2017-11-29\",\"2017-12-06\",\"2017-12-16\",\"2018-01-12\",\"2018-02-21\",\"2018-02-22\",\"2018-02-27\",\"2018-04-05\",\"2018-04-10\",\"2018-06-21\",\"2018-09-21\",\"2018-09-26\",\"2018-09-27\",\"2018-09-28\",\"2018-09-29\",\"2018-09-30\",\"2018-11-06\",\"2019-01-15\",\"2019-03-29\",\"2019-04-01\",\"2019-06-23\",\"2019-09-14\",\"2019-09-18\",\"2019-09-30\",\"2020-01-04\",\"2020-03-07\",\"2020-06-03\",\"2020-07-09\",\"2020-07-12\",\"2020-07-19\",\"2020-07-26\",\"2020-08-22\",\"2020-09-17\",\"2021-07-23\",\"2021-09-02\",\"2021-09-16\",\"2021-10-10\",\"2022-02-25\",\"2022-03-08\",\"2022-03-12\"],\"y\":[2,2,2,32,22,16,8,2,4,2,2,2,2,2,4,2,2,2,2,2,2,2,2,2,2,2,2,2,2,2,2,2,2,2,2,4,2,2,2,2,2,2,2,2,2,2,4,4,2,2,2,4,2,2,2,2,2,2,2,2,2,2,2,2,2,2,2,2,2,2,2,2,2],\"type\":\"scatter\"}],                        {\"template\":{\"data\":{\"bar\":[{\"error_x\":{\"color\":\"#2a3f5f\"},\"error_y\":{\"color\":\"#2a3f5f\"},\"marker\":{\"line\":{\"color\":\"#E5ECF6\",\"width\":0.5},\"pattern\":{\"fillmode\":\"overlay\",\"size\":10,\"solidity\":0.2}},\"type\":\"bar\"}],\"barpolar\":[{\"marker\":{\"line\":{\"color\":\"#E5ECF6\",\"width\":0.5},\"pattern\":{\"fillmode\":\"overlay\",\"size\":10,\"solidity\":0.2}},\"type\":\"barpolar\"}],\"carpet\":[{\"aaxis\":{\"endlinecolor\":\"#2a3f5f\",\"gridcolor\":\"white\",\"linecolor\":\"white\",\"minorgridcolor\":\"white\",\"startlinecolor\":\"#2a3f5f\"},\"baxis\":{\"endlinecolor\":\"#2a3f5f\",\"gridcolor\":\"white\",\"linecolor\":\"white\",\"minorgridcolor\":\"white\",\"startlinecolor\":\"#2a3f5f\"},\"type\":\"carpet\"}],\"choropleth\":[{\"colorbar\":{\"outlinewidth\":0,\"ticks\":\"\"},\"type\":\"choropleth\"}],\"contour\":[{\"colorbar\":{\"outlinewidth\":0,\"ticks\":\"\"},\"colorscale\":[[0.0,\"#0d0887\"],[0.1111111111111111,\"#46039f\"],[0.2222222222222222,\"#7201a8\"],[0.3333333333333333,\"#9c179e\"],[0.4444444444444444,\"#bd3786\"],[0.5555555555555556,\"#d8576b\"],[0.6666666666666666,\"#ed7953\"],[0.7777777777777778,\"#fb9f3a\"],[0.8888888888888888,\"#fdca26\"],[1.0,\"#f0f921\"]],\"type\":\"contour\"}],\"contourcarpet\":[{\"colorbar\":{\"outlinewidth\":0,\"ticks\":\"\"},\"type\":\"contourcarpet\"}],\"heatmap\":[{\"colorbar\":{\"outlinewidth\":0,\"ticks\":\"\"},\"colorscale\":[[0.0,\"#0d0887\"],[0.1111111111111111,\"#46039f\"],[0.2222222222222222,\"#7201a8\"],[0.3333333333333333,\"#9c179e\"],[0.4444444444444444,\"#bd3786\"],[0.5555555555555556,\"#d8576b\"],[0.6666666666666666,\"#ed7953\"],[0.7777777777777778,\"#fb9f3a\"],[0.8888888888888888,\"#fdca26\"],[1.0,\"#f0f921\"]],\"type\":\"heatmap\"}],\"heatmapgl\":[{\"colorbar\":{\"outlinewidth\":0,\"ticks\":\"\"},\"colorscale\":[[0.0,\"#0d0887\"],[0.1111111111111111,\"#46039f\"],[0.2222222222222222,\"#7201a8\"],[0.3333333333333333,\"#9c179e\"],[0.4444444444444444,\"#bd3786\"],[0.5555555555555556,\"#d8576b\"],[0.6666666666666666,\"#ed7953\"],[0.7777777777777778,\"#fb9f3a\"],[0.8888888888888888,\"#fdca26\"],[1.0,\"#f0f921\"]],\"type\":\"heatmapgl\"}],\"histogram\":[{\"marker\":{\"pattern\":{\"fillmode\":\"overlay\",\"size\":10,\"solidity\":0.2}},\"type\":\"histogram\"}],\"histogram2d\":[{\"colorbar\":{\"outlinewidth\":0,\"ticks\":\"\"},\"colorscale\":[[0.0,\"#0d0887\"],[0.1111111111111111,\"#46039f\"],[0.2222222222222222,\"#7201a8\"],[0.3333333333333333,\"#9c179e\"],[0.4444444444444444,\"#bd3786\"],[0.5555555555555556,\"#d8576b\"],[0.6666666666666666,\"#ed7953\"],[0.7777777777777778,\"#fb9f3a\"],[0.8888888888888888,\"#fdca26\"],[1.0,\"#f0f921\"]],\"type\":\"histogram2d\"}],\"histogram2dcontour\":[{\"colorbar\":{\"outlinewidth\":0,\"ticks\":\"\"},\"colorscale\":[[0.0,\"#0d0887\"],[0.1111111111111111,\"#46039f\"],[0.2222222222222222,\"#7201a8\"],[0.3333333333333333,\"#9c179e\"],[0.4444444444444444,\"#bd3786\"],[0.5555555555555556,\"#d8576b\"],[0.6666666666666666,\"#ed7953\"],[0.7777777777777778,\"#fb9f3a\"],[0.8888888888888888,\"#fdca26\"],[1.0,\"#f0f921\"]],\"type\":\"histogram2dcontour\"}],\"mesh3d\":[{\"colorbar\":{\"outlinewidth\":0,\"ticks\":\"\"},\"type\":\"mesh3d\"}],\"parcoords\":[{\"line\":{\"colorbar\":{\"outlinewidth\":0,\"ticks\":\"\"}},\"type\":\"parcoords\"}],\"pie\":[{\"automargin\":true,\"type\":\"pie\"}],\"scatter\":[{\"marker\":{\"colorbar\":{\"outlinewidth\":0,\"ticks\":\"\"}},\"type\":\"scatter\"}],\"scatter3d\":[{\"line\":{\"colorbar\":{\"outlinewidth\":0,\"ticks\":\"\"}},\"marker\":{\"colorbar\":{\"outlinewidth\":0,\"ticks\":\"\"}},\"type\":\"scatter3d\"}],\"scattercarpet\":[{\"marker\":{\"colorbar\":{\"outlinewidth\":0,\"ticks\":\"\"}},\"type\":\"scattercarpet\"}],\"scattergeo\":[{\"marker\":{\"colorbar\":{\"outlinewidth\":0,\"ticks\":\"\"}},\"type\":\"scattergeo\"}],\"scattergl\":[{\"marker\":{\"colorbar\":{\"outlinewidth\":0,\"ticks\":\"\"}},\"type\":\"scattergl\"}],\"scattermapbox\":[{\"marker\":{\"colorbar\":{\"outlinewidth\":0,\"ticks\":\"\"}},\"type\":\"scattermapbox\"}],\"scatterpolar\":[{\"marker\":{\"colorbar\":{\"outlinewidth\":0,\"ticks\":\"\"}},\"type\":\"scatterpolar\"}],\"scatterpolargl\":[{\"marker\":{\"colorbar\":{\"outlinewidth\":0,\"ticks\":\"\"}},\"type\":\"scatterpolargl\"}],\"scatterternary\":[{\"marker\":{\"colorbar\":{\"outlinewidth\":0,\"ticks\":\"\"}},\"type\":\"scatterternary\"}],\"surface\":[{\"colorbar\":{\"outlinewidth\":0,\"ticks\":\"\"},\"colorscale\":[[0.0,\"#0d0887\"],[0.1111111111111111,\"#46039f\"],[0.2222222222222222,\"#7201a8\"],[0.3333333333333333,\"#9c179e\"],[0.4444444444444444,\"#bd3786\"],[0.5555555555555556,\"#d8576b\"],[0.6666666666666666,\"#ed7953\"],[0.7777777777777778,\"#fb9f3a\"],[0.8888888888888888,\"#fdca26\"],[1.0,\"#f0f921\"]],\"type\":\"surface\"}],\"table\":[{\"cells\":{\"fill\":{\"color\":\"#EBF0F8\"},\"line\":{\"color\":\"white\"}},\"header\":{\"fill\":{\"color\":\"#C8D4E3\"},\"line\":{\"color\":\"white\"}},\"type\":\"table\"}]},\"layout\":{\"annotationdefaults\":{\"arrowcolor\":\"#2a3f5f\",\"arrowhead\":0,\"arrowwidth\":1},\"autotypenumbers\":\"strict\",\"coloraxis\":{\"colorbar\":{\"outlinewidth\":0,\"ticks\":\"\"}},\"colorscale\":{\"diverging\":[[0,\"#8e0152\"],[0.1,\"#c51b7d\"],[0.2,\"#de77ae\"],[0.3,\"#f1b6da\"],[0.4,\"#fde0ef\"],[0.5,\"#f7f7f7\"],[0.6,\"#e6f5d0\"],[0.7,\"#b8e186\"],[0.8,\"#7fbc41\"],[0.9,\"#4d9221\"],[1,\"#276419\"]],\"sequential\":[[0.0,\"#0d0887\"],[0.1111111111111111,\"#46039f\"],[0.2222222222222222,\"#7201a8\"],[0.3333333333333333,\"#9c179e\"],[0.4444444444444444,\"#bd3786\"],[0.5555555555555556,\"#d8576b\"],[0.6666666666666666,\"#ed7953\"],[0.7777777777777778,\"#fb9f3a\"],[0.8888888888888888,\"#fdca26\"],[1.0,\"#f0f921\"]],\"sequentialminus\":[[0.0,\"#0d0887\"],[0.1111111111111111,\"#46039f\"],[0.2222222222222222,\"#7201a8\"],[0.3333333333333333,\"#9c179e\"],[0.4444444444444444,\"#bd3786\"],[0.5555555555555556,\"#d8576b\"],[0.6666666666666666,\"#ed7953\"],[0.7777777777777778,\"#fb9f3a\"],[0.8888888888888888,\"#fdca26\"],[1.0,\"#f0f921\"]]},\"colorway\":[\"#636efa\",\"#EF553B\",\"#00cc96\",\"#ab63fa\",\"#FFA15A\",\"#19d3f3\",\"#FF6692\",\"#B6E880\",\"#FF97FF\",\"#FECB52\"],\"font\":{\"color\":\"#2a3f5f\"},\"geo\":{\"bgcolor\":\"white\",\"lakecolor\":\"white\",\"landcolor\":\"#E5ECF6\",\"showlakes\":true,\"showland\":true,\"subunitcolor\":\"white\"},\"hoverlabel\":{\"align\":\"left\"},\"hovermode\":\"closest\",\"mapbox\":{\"style\":\"light\"},\"paper_bgcolor\":\"white\",\"plot_bgcolor\":\"#E5ECF6\",\"polar\":{\"angularaxis\":{\"gridcolor\":\"white\",\"linecolor\":\"white\",\"ticks\":\"\"},\"bgcolor\":\"#E5ECF6\",\"radialaxis\":{\"gridcolor\":\"white\",\"linecolor\":\"white\",\"ticks\":\"\"}},\"scene\":{\"xaxis\":{\"backgroundcolor\":\"#E5ECF6\",\"gridcolor\":\"white\",\"gridwidth\":2,\"linecolor\":\"white\",\"showbackground\":true,\"ticks\":\"\",\"zerolinecolor\":\"white\"},\"yaxis\":{\"backgroundcolor\":\"#E5ECF6\",\"gridcolor\":\"white\",\"gridwidth\":2,\"linecolor\":\"white\",\"showbackground\":true,\"ticks\":\"\",\"zerolinecolor\":\"white\"},\"zaxis\":{\"backgroundcolor\":\"#E5ECF6\",\"gridcolor\":\"white\",\"gridwidth\":2,\"linecolor\":\"white\",\"showbackground\":true,\"ticks\":\"\",\"zerolinecolor\":\"white\"}},\"shapedefaults\":{\"line\":{\"color\":\"#2a3f5f\"}},\"ternary\":{\"aaxis\":{\"gridcolor\":\"white\",\"linecolor\":\"white\",\"ticks\":\"\"},\"baxis\":{\"gridcolor\":\"white\",\"linecolor\":\"white\",\"ticks\":\"\"},\"bgcolor\":\"#E5ECF6\",\"caxis\":{\"gridcolor\":\"white\",\"linecolor\":\"white\",\"ticks\":\"\"}},\"title\":{\"x\":0.05},\"xaxis\":{\"automargin\":true,\"gridcolor\":\"white\",\"linecolor\":\"white\",\"ticks\":\"\",\"title\":{\"standoff\":15},\"zerolinecolor\":\"white\",\"zerolinewidth\":2},\"yaxis\":{\"automargin\":true,\"gridcolor\":\"white\",\"linecolor\":\"white\",\"ticks\":\"\",\"title\":{\"standoff\":15},\"zerolinecolor\":\"white\",\"zerolinewidth\":2}}}},                        {\"responsive\": true}                    ).then(function(){\n",
       "                            \n",
       "var gd = document.getElementById('0de08825-7258-47e8-90be-b494d99f98e6');\n",
       "var x = new MutationObserver(function (mutations, observer) {{\n",
       "        var display = window.getComputedStyle(gd).display;\n",
       "        if (!display || display === 'none') {{\n",
       "            console.log([gd, 'removed!']);\n",
       "            Plotly.purge(gd);\n",
       "            observer.disconnect();\n",
       "        }}\n",
       "}});\n",
       "\n",
       "// Listen for the removal of the full notebook cells\n",
       "var notebookContainer = gd.closest('#notebook-container');\n",
       "if (notebookContainer) {{\n",
       "    x.observe(notebookContainer, {childList: true});\n",
       "}}\n",
       "\n",
       "// Listen for the clearing of the current output cell\n",
       "var outputEl = gd.closest('.output');\n",
       "if (outputEl) {{\n",
       "    x.observe(outputEl, {childList: true});\n",
       "}}\n",
       "\n",
       "                        })                };                });            </script>        </div>"
      ]
     },
     "metadata": {},
     "output_type": "display_data"
    }
   ],
   "source": [
    "import plotly.graph_objs as go\n",
    "\n",
    "fig = go.Figure()\n",
    "for col in pos.columns:\n",
    "    fig.add_trace(go.Scatter(x=pos['date'], y=pos['id'],\n",
    "                             name = col,\n",
    "                             mode = 'markers+lines',\n",
    "                             line=dict(shape='linear'),\n",
    "                             connectgaps=True,\n",
    "                             line_color='green'\n",
    "                             )\n",
    "                 )\n",
    "\n",
    "for col in neg.columns:\n",
    "    fig.add_trace(go.Scatter(x=neg['date'], y=neg['id'],\n",
    "                             name = col,\n",
    "                             mode = 'markers+lines',\n",
    "                             line=dict(shape='linear'),\n",
    "                             connectgaps=True,\n",
    "                             line_color='red'\n",
    "                             )\n",
    "                 )\n",
    "fig.show()"
   ]
  },
  {
   "cell_type": "code",
   "execution_count": 34,
   "id": "d2121f3a",
   "metadata": {},
   "outputs": [],
   "source": [
    "newdf = df[(df['date']>='2012-03-02') & (df['date']<='2013-04-02')]\n",
    "\n",
    "neg = newdf[newdf['sentiment_category']=='negative']\n",
    "neg = neg.groupby(['date'],as_index=False).count()\n",
    "\n",
    "pos = newdf[newdf['sentiment_category']=='positive']\n",
    "pos = pos.groupby(['date'],as_index=False).count()\n",
    "\n",
    "pos = pos[['date','id']]\n",
    "neg = neg[['date','id']]"
   ]
  },
  {
   "cell_type": "code",
   "execution_count": 35,
   "id": "60a233b5",
   "metadata": {},
   "outputs": [
    {
     "data": {
      "application/vnd.plotly.v1+json": {
       "config": {
        "plotlyServerURL": "https://plot.ly"
       },
       "data": [
        {
         "connectgaps": true,
         "line": {
          "color": "green",
          "shape": "linear"
         },
         "mode": "markers+lines",
         "name": "date",
         "type": "scatter",
         "x": [
          "2012-08-05",
          "2012-08-08",
          "2012-08-15",
          "2012-08-16",
          "2012-08-17",
          "2012-08-21"
         ],
         "y": [
          2,
          2,
          2,
          2,
          4,
          2
         ]
        },
        {
         "connectgaps": true,
         "line": {
          "color": "green",
          "shape": "linear"
         },
         "mode": "markers+lines",
         "name": "id",
         "type": "scatter",
         "x": [
          "2012-08-05",
          "2012-08-08",
          "2012-08-15",
          "2012-08-16",
          "2012-08-17",
          "2012-08-21"
         ],
         "y": [
          2,
          2,
          2,
          2,
          4,
          2
         ]
        },
        {
         "connectgaps": true,
         "line": {
          "color": "red",
          "shape": "linear"
         },
         "mode": "markers+lines",
         "name": "date",
         "type": "scatter",
         "x": [
          "2012-03-02",
          "2012-08-15",
          "2012-08-16",
          "2012-08-17",
          "2012-08-18",
          "2012-08-20",
          "2012-08-21",
          "2012-08-29",
          "2012-08-30",
          "2012-09-03",
          "2012-09-08",
          "2012-10-24",
          "2013-02-12",
          "2013-03-11"
         ],
         "y": [
          2,
          32,
          22,
          16,
          8,
          2,
          4,
          2,
          2,
          2,
          2,
          2,
          4,
          2
         ]
        },
        {
         "connectgaps": true,
         "line": {
          "color": "red",
          "shape": "linear"
         },
         "mode": "markers+lines",
         "name": "id",
         "type": "scatter",
         "x": [
          "2012-03-02",
          "2012-08-15",
          "2012-08-16",
          "2012-08-17",
          "2012-08-18",
          "2012-08-20",
          "2012-08-21",
          "2012-08-29",
          "2012-08-30",
          "2012-09-03",
          "2012-09-08",
          "2012-10-24",
          "2013-02-12",
          "2013-03-11"
         ],
         "y": [
          2,
          32,
          22,
          16,
          8,
          2,
          4,
          2,
          2,
          2,
          2,
          2,
          4,
          2
         ]
        }
       ],
       "layout": {
        "template": {
         "data": {
          "bar": [
           {
            "error_x": {
             "color": "#2a3f5f"
            },
            "error_y": {
             "color": "#2a3f5f"
            },
            "marker": {
             "line": {
              "color": "#E5ECF6",
              "width": 0.5
             },
             "pattern": {
              "fillmode": "overlay",
              "size": 10,
              "solidity": 0.2
             }
            },
            "type": "bar"
           }
          ],
          "barpolar": [
           {
            "marker": {
             "line": {
              "color": "#E5ECF6",
              "width": 0.5
             },
             "pattern": {
              "fillmode": "overlay",
              "size": 10,
              "solidity": 0.2
             }
            },
            "type": "barpolar"
           }
          ],
          "carpet": [
           {
            "aaxis": {
             "endlinecolor": "#2a3f5f",
             "gridcolor": "white",
             "linecolor": "white",
             "minorgridcolor": "white",
             "startlinecolor": "#2a3f5f"
            },
            "baxis": {
             "endlinecolor": "#2a3f5f",
             "gridcolor": "white",
             "linecolor": "white",
             "minorgridcolor": "white",
             "startlinecolor": "#2a3f5f"
            },
            "type": "carpet"
           }
          ],
          "choropleth": [
           {
            "colorbar": {
             "outlinewidth": 0,
             "ticks": ""
            },
            "type": "choropleth"
           }
          ],
          "contour": [
           {
            "colorbar": {
             "outlinewidth": 0,
             "ticks": ""
            },
            "colorscale": [
             [
              0,
              "#0d0887"
             ],
             [
              0.1111111111111111,
              "#46039f"
             ],
             [
              0.2222222222222222,
              "#7201a8"
             ],
             [
              0.3333333333333333,
              "#9c179e"
             ],
             [
              0.4444444444444444,
              "#bd3786"
             ],
             [
              0.5555555555555556,
              "#d8576b"
             ],
             [
              0.6666666666666666,
              "#ed7953"
             ],
             [
              0.7777777777777778,
              "#fb9f3a"
             ],
             [
              0.8888888888888888,
              "#fdca26"
             ],
             [
              1,
              "#f0f921"
             ]
            ],
            "type": "contour"
           }
          ],
          "contourcarpet": [
           {
            "colorbar": {
             "outlinewidth": 0,
             "ticks": ""
            },
            "type": "contourcarpet"
           }
          ],
          "heatmap": [
           {
            "colorbar": {
             "outlinewidth": 0,
             "ticks": ""
            },
            "colorscale": [
             [
              0,
              "#0d0887"
             ],
             [
              0.1111111111111111,
              "#46039f"
             ],
             [
              0.2222222222222222,
              "#7201a8"
             ],
             [
              0.3333333333333333,
              "#9c179e"
             ],
             [
              0.4444444444444444,
              "#bd3786"
             ],
             [
              0.5555555555555556,
              "#d8576b"
             ],
             [
              0.6666666666666666,
              "#ed7953"
             ],
             [
              0.7777777777777778,
              "#fb9f3a"
             ],
             [
              0.8888888888888888,
              "#fdca26"
             ],
             [
              1,
              "#f0f921"
             ]
            ],
            "type": "heatmap"
           }
          ],
          "heatmapgl": [
           {
            "colorbar": {
             "outlinewidth": 0,
             "ticks": ""
            },
            "colorscale": [
             [
              0,
              "#0d0887"
             ],
             [
              0.1111111111111111,
              "#46039f"
             ],
             [
              0.2222222222222222,
              "#7201a8"
             ],
             [
              0.3333333333333333,
              "#9c179e"
             ],
             [
              0.4444444444444444,
              "#bd3786"
             ],
             [
              0.5555555555555556,
              "#d8576b"
             ],
             [
              0.6666666666666666,
              "#ed7953"
             ],
             [
              0.7777777777777778,
              "#fb9f3a"
             ],
             [
              0.8888888888888888,
              "#fdca26"
             ],
             [
              1,
              "#f0f921"
             ]
            ],
            "type": "heatmapgl"
           }
          ],
          "histogram": [
           {
            "marker": {
             "pattern": {
              "fillmode": "overlay",
              "size": 10,
              "solidity": 0.2
             }
            },
            "type": "histogram"
           }
          ],
          "histogram2d": [
           {
            "colorbar": {
             "outlinewidth": 0,
             "ticks": ""
            },
            "colorscale": [
             [
              0,
              "#0d0887"
             ],
             [
              0.1111111111111111,
              "#46039f"
             ],
             [
              0.2222222222222222,
              "#7201a8"
             ],
             [
              0.3333333333333333,
              "#9c179e"
             ],
             [
              0.4444444444444444,
              "#bd3786"
             ],
             [
              0.5555555555555556,
              "#d8576b"
             ],
             [
              0.6666666666666666,
              "#ed7953"
             ],
             [
              0.7777777777777778,
              "#fb9f3a"
             ],
             [
              0.8888888888888888,
              "#fdca26"
             ],
             [
              1,
              "#f0f921"
             ]
            ],
            "type": "histogram2d"
           }
          ],
          "histogram2dcontour": [
           {
            "colorbar": {
             "outlinewidth": 0,
             "ticks": ""
            },
            "colorscale": [
             [
              0,
              "#0d0887"
             ],
             [
              0.1111111111111111,
              "#46039f"
             ],
             [
              0.2222222222222222,
              "#7201a8"
             ],
             [
              0.3333333333333333,
              "#9c179e"
             ],
             [
              0.4444444444444444,
              "#bd3786"
             ],
             [
              0.5555555555555556,
              "#d8576b"
             ],
             [
              0.6666666666666666,
              "#ed7953"
             ],
             [
              0.7777777777777778,
              "#fb9f3a"
             ],
             [
              0.8888888888888888,
              "#fdca26"
             ],
             [
              1,
              "#f0f921"
             ]
            ],
            "type": "histogram2dcontour"
           }
          ],
          "mesh3d": [
           {
            "colorbar": {
             "outlinewidth": 0,
             "ticks": ""
            },
            "type": "mesh3d"
           }
          ],
          "parcoords": [
           {
            "line": {
             "colorbar": {
              "outlinewidth": 0,
              "ticks": ""
             }
            },
            "type": "parcoords"
           }
          ],
          "pie": [
           {
            "automargin": true,
            "type": "pie"
           }
          ],
          "scatter": [
           {
            "marker": {
             "colorbar": {
              "outlinewidth": 0,
              "ticks": ""
             }
            },
            "type": "scatter"
           }
          ],
          "scatter3d": [
           {
            "line": {
             "colorbar": {
              "outlinewidth": 0,
              "ticks": ""
             }
            },
            "marker": {
             "colorbar": {
              "outlinewidth": 0,
              "ticks": ""
             }
            },
            "type": "scatter3d"
           }
          ],
          "scattercarpet": [
           {
            "marker": {
             "colorbar": {
              "outlinewidth": 0,
              "ticks": ""
             }
            },
            "type": "scattercarpet"
           }
          ],
          "scattergeo": [
           {
            "marker": {
             "colorbar": {
              "outlinewidth": 0,
              "ticks": ""
             }
            },
            "type": "scattergeo"
           }
          ],
          "scattergl": [
           {
            "marker": {
             "colorbar": {
              "outlinewidth": 0,
              "ticks": ""
             }
            },
            "type": "scattergl"
           }
          ],
          "scattermapbox": [
           {
            "marker": {
             "colorbar": {
              "outlinewidth": 0,
              "ticks": ""
             }
            },
            "type": "scattermapbox"
           }
          ],
          "scatterpolar": [
           {
            "marker": {
             "colorbar": {
              "outlinewidth": 0,
              "ticks": ""
             }
            },
            "type": "scatterpolar"
           }
          ],
          "scatterpolargl": [
           {
            "marker": {
             "colorbar": {
              "outlinewidth": 0,
              "ticks": ""
             }
            },
            "type": "scatterpolargl"
           }
          ],
          "scatterternary": [
           {
            "marker": {
             "colorbar": {
              "outlinewidth": 0,
              "ticks": ""
             }
            },
            "type": "scatterternary"
           }
          ],
          "surface": [
           {
            "colorbar": {
             "outlinewidth": 0,
             "ticks": ""
            },
            "colorscale": [
             [
              0,
              "#0d0887"
             ],
             [
              0.1111111111111111,
              "#46039f"
             ],
             [
              0.2222222222222222,
              "#7201a8"
             ],
             [
              0.3333333333333333,
              "#9c179e"
             ],
             [
              0.4444444444444444,
              "#bd3786"
             ],
             [
              0.5555555555555556,
              "#d8576b"
             ],
             [
              0.6666666666666666,
              "#ed7953"
             ],
             [
              0.7777777777777778,
              "#fb9f3a"
             ],
             [
              0.8888888888888888,
              "#fdca26"
             ],
             [
              1,
              "#f0f921"
             ]
            ],
            "type": "surface"
           }
          ],
          "table": [
           {
            "cells": {
             "fill": {
              "color": "#EBF0F8"
             },
             "line": {
              "color": "white"
             }
            },
            "header": {
             "fill": {
              "color": "#C8D4E3"
             },
             "line": {
              "color": "white"
             }
            },
            "type": "table"
           }
          ]
         },
         "layout": {
          "annotationdefaults": {
           "arrowcolor": "#2a3f5f",
           "arrowhead": 0,
           "arrowwidth": 1
          },
          "autotypenumbers": "strict",
          "coloraxis": {
           "colorbar": {
            "outlinewidth": 0,
            "ticks": ""
           }
          },
          "colorscale": {
           "diverging": [
            [
             0,
             "#8e0152"
            ],
            [
             0.1,
             "#c51b7d"
            ],
            [
             0.2,
             "#de77ae"
            ],
            [
             0.3,
             "#f1b6da"
            ],
            [
             0.4,
             "#fde0ef"
            ],
            [
             0.5,
             "#f7f7f7"
            ],
            [
             0.6,
             "#e6f5d0"
            ],
            [
             0.7,
             "#b8e186"
            ],
            [
             0.8,
             "#7fbc41"
            ],
            [
             0.9,
             "#4d9221"
            ],
            [
             1,
             "#276419"
            ]
           ],
           "sequential": [
            [
             0,
             "#0d0887"
            ],
            [
             0.1111111111111111,
             "#46039f"
            ],
            [
             0.2222222222222222,
             "#7201a8"
            ],
            [
             0.3333333333333333,
             "#9c179e"
            ],
            [
             0.4444444444444444,
             "#bd3786"
            ],
            [
             0.5555555555555556,
             "#d8576b"
            ],
            [
             0.6666666666666666,
             "#ed7953"
            ],
            [
             0.7777777777777778,
             "#fb9f3a"
            ],
            [
             0.8888888888888888,
             "#fdca26"
            ],
            [
             1,
             "#f0f921"
            ]
           ],
           "sequentialminus": [
            [
             0,
             "#0d0887"
            ],
            [
             0.1111111111111111,
             "#46039f"
            ],
            [
             0.2222222222222222,
             "#7201a8"
            ],
            [
             0.3333333333333333,
             "#9c179e"
            ],
            [
             0.4444444444444444,
             "#bd3786"
            ],
            [
             0.5555555555555556,
             "#d8576b"
            ],
            [
             0.6666666666666666,
             "#ed7953"
            ],
            [
             0.7777777777777778,
             "#fb9f3a"
            ],
            [
             0.8888888888888888,
             "#fdca26"
            ],
            [
             1,
             "#f0f921"
            ]
           ]
          },
          "colorway": [
           "#636efa",
           "#EF553B",
           "#00cc96",
           "#ab63fa",
           "#FFA15A",
           "#19d3f3",
           "#FF6692",
           "#B6E880",
           "#FF97FF",
           "#FECB52"
          ],
          "font": {
           "color": "#2a3f5f"
          },
          "geo": {
           "bgcolor": "white",
           "lakecolor": "white",
           "landcolor": "#E5ECF6",
           "showlakes": true,
           "showland": true,
           "subunitcolor": "white"
          },
          "hoverlabel": {
           "align": "left"
          },
          "hovermode": "closest",
          "mapbox": {
           "style": "light"
          },
          "paper_bgcolor": "white",
          "plot_bgcolor": "#E5ECF6",
          "polar": {
           "angularaxis": {
            "gridcolor": "white",
            "linecolor": "white",
            "ticks": ""
           },
           "bgcolor": "#E5ECF6",
           "radialaxis": {
            "gridcolor": "white",
            "linecolor": "white",
            "ticks": ""
           }
          },
          "scene": {
           "xaxis": {
            "backgroundcolor": "#E5ECF6",
            "gridcolor": "white",
            "gridwidth": 2,
            "linecolor": "white",
            "showbackground": true,
            "ticks": "",
            "zerolinecolor": "white"
           },
           "yaxis": {
            "backgroundcolor": "#E5ECF6",
            "gridcolor": "white",
            "gridwidth": 2,
            "linecolor": "white",
            "showbackground": true,
            "ticks": "",
            "zerolinecolor": "white"
           },
           "zaxis": {
            "backgroundcolor": "#E5ECF6",
            "gridcolor": "white",
            "gridwidth": 2,
            "linecolor": "white",
            "showbackground": true,
            "ticks": "",
            "zerolinecolor": "white"
           }
          },
          "shapedefaults": {
           "line": {
            "color": "#2a3f5f"
           }
          },
          "ternary": {
           "aaxis": {
            "gridcolor": "white",
            "linecolor": "white",
            "ticks": ""
           },
           "baxis": {
            "gridcolor": "white",
            "linecolor": "white",
            "ticks": ""
           },
           "bgcolor": "#E5ECF6",
           "caxis": {
            "gridcolor": "white",
            "linecolor": "white",
            "ticks": ""
           }
          },
          "title": {
           "x": 0.05
          },
          "xaxis": {
           "automargin": true,
           "gridcolor": "white",
           "linecolor": "white",
           "ticks": "",
           "title": {
            "standoff": 15
           },
           "zerolinecolor": "white",
           "zerolinewidth": 2
          },
          "yaxis": {
           "automargin": true,
           "gridcolor": "white",
           "linecolor": "white",
           "ticks": "",
           "title": {
            "standoff": 15
           },
           "zerolinecolor": "white",
           "zerolinewidth": 2
          }
         }
        }
       }
      },
      "text/html": [
       "<div>                            <div id=\"f86f2846-7aa1-478f-ada3-cf0f8ab767ce\" class=\"plotly-graph-div\" style=\"height:525px; width:100%;\"></div>            <script type=\"text/javascript\">                require([\"plotly\"], function(Plotly) {                    window.PLOTLYENV=window.PLOTLYENV || {};                                    if (document.getElementById(\"f86f2846-7aa1-478f-ada3-cf0f8ab767ce\")) {                    Plotly.newPlot(                        \"f86f2846-7aa1-478f-ada3-cf0f8ab767ce\",                        [{\"connectgaps\":true,\"line\":{\"color\":\"green\",\"shape\":\"linear\"},\"mode\":\"markers+lines\",\"name\":\"date\",\"x\":[\"2012-08-05\",\"2012-08-08\",\"2012-08-15\",\"2012-08-16\",\"2012-08-17\",\"2012-08-21\"],\"y\":[2,2,2,2,4,2],\"type\":\"scatter\"},{\"connectgaps\":true,\"line\":{\"color\":\"green\",\"shape\":\"linear\"},\"mode\":\"markers+lines\",\"name\":\"id\",\"x\":[\"2012-08-05\",\"2012-08-08\",\"2012-08-15\",\"2012-08-16\",\"2012-08-17\",\"2012-08-21\"],\"y\":[2,2,2,2,4,2],\"type\":\"scatter\"},{\"connectgaps\":true,\"line\":{\"color\":\"red\",\"shape\":\"linear\"},\"mode\":\"markers+lines\",\"name\":\"date\",\"x\":[\"2012-03-02\",\"2012-08-15\",\"2012-08-16\",\"2012-08-17\",\"2012-08-18\",\"2012-08-20\",\"2012-08-21\",\"2012-08-29\",\"2012-08-30\",\"2012-09-03\",\"2012-09-08\",\"2012-10-24\",\"2013-02-12\",\"2013-03-11\"],\"y\":[2,32,22,16,8,2,4,2,2,2,2,2,4,2],\"type\":\"scatter\"},{\"connectgaps\":true,\"line\":{\"color\":\"red\",\"shape\":\"linear\"},\"mode\":\"markers+lines\",\"name\":\"id\",\"x\":[\"2012-03-02\",\"2012-08-15\",\"2012-08-16\",\"2012-08-17\",\"2012-08-18\",\"2012-08-20\",\"2012-08-21\",\"2012-08-29\",\"2012-08-30\",\"2012-09-03\",\"2012-09-08\",\"2012-10-24\",\"2013-02-12\",\"2013-03-11\"],\"y\":[2,32,22,16,8,2,4,2,2,2,2,2,4,2],\"type\":\"scatter\"}],                        {\"template\":{\"data\":{\"bar\":[{\"error_x\":{\"color\":\"#2a3f5f\"},\"error_y\":{\"color\":\"#2a3f5f\"},\"marker\":{\"line\":{\"color\":\"#E5ECF6\",\"width\":0.5},\"pattern\":{\"fillmode\":\"overlay\",\"size\":10,\"solidity\":0.2}},\"type\":\"bar\"}],\"barpolar\":[{\"marker\":{\"line\":{\"color\":\"#E5ECF6\",\"width\":0.5},\"pattern\":{\"fillmode\":\"overlay\",\"size\":10,\"solidity\":0.2}},\"type\":\"barpolar\"}],\"carpet\":[{\"aaxis\":{\"endlinecolor\":\"#2a3f5f\",\"gridcolor\":\"white\",\"linecolor\":\"white\",\"minorgridcolor\":\"white\",\"startlinecolor\":\"#2a3f5f\"},\"baxis\":{\"endlinecolor\":\"#2a3f5f\",\"gridcolor\":\"white\",\"linecolor\":\"white\",\"minorgridcolor\":\"white\",\"startlinecolor\":\"#2a3f5f\"},\"type\":\"carpet\"}],\"choropleth\":[{\"colorbar\":{\"outlinewidth\":0,\"ticks\":\"\"},\"type\":\"choropleth\"}],\"contour\":[{\"colorbar\":{\"outlinewidth\":0,\"ticks\":\"\"},\"colorscale\":[[0.0,\"#0d0887\"],[0.1111111111111111,\"#46039f\"],[0.2222222222222222,\"#7201a8\"],[0.3333333333333333,\"#9c179e\"],[0.4444444444444444,\"#bd3786\"],[0.5555555555555556,\"#d8576b\"],[0.6666666666666666,\"#ed7953\"],[0.7777777777777778,\"#fb9f3a\"],[0.8888888888888888,\"#fdca26\"],[1.0,\"#f0f921\"]],\"type\":\"contour\"}],\"contourcarpet\":[{\"colorbar\":{\"outlinewidth\":0,\"ticks\":\"\"},\"type\":\"contourcarpet\"}],\"heatmap\":[{\"colorbar\":{\"outlinewidth\":0,\"ticks\":\"\"},\"colorscale\":[[0.0,\"#0d0887\"],[0.1111111111111111,\"#46039f\"],[0.2222222222222222,\"#7201a8\"],[0.3333333333333333,\"#9c179e\"],[0.4444444444444444,\"#bd3786\"],[0.5555555555555556,\"#d8576b\"],[0.6666666666666666,\"#ed7953\"],[0.7777777777777778,\"#fb9f3a\"],[0.8888888888888888,\"#fdca26\"],[1.0,\"#f0f921\"]],\"type\":\"heatmap\"}],\"heatmapgl\":[{\"colorbar\":{\"outlinewidth\":0,\"ticks\":\"\"},\"colorscale\":[[0.0,\"#0d0887\"],[0.1111111111111111,\"#46039f\"],[0.2222222222222222,\"#7201a8\"],[0.3333333333333333,\"#9c179e\"],[0.4444444444444444,\"#bd3786\"],[0.5555555555555556,\"#d8576b\"],[0.6666666666666666,\"#ed7953\"],[0.7777777777777778,\"#fb9f3a\"],[0.8888888888888888,\"#fdca26\"],[1.0,\"#f0f921\"]],\"type\":\"heatmapgl\"}],\"histogram\":[{\"marker\":{\"pattern\":{\"fillmode\":\"overlay\",\"size\":10,\"solidity\":0.2}},\"type\":\"histogram\"}],\"histogram2d\":[{\"colorbar\":{\"outlinewidth\":0,\"ticks\":\"\"},\"colorscale\":[[0.0,\"#0d0887\"],[0.1111111111111111,\"#46039f\"],[0.2222222222222222,\"#7201a8\"],[0.3333333333333333,\"#9c179e\"],[0.4444444444444444,\"#bd3786\"],[0.5555555555555556,\"#d8576b\"],[0.6666666666666666,\"#ed7953\"],[0.7777777777777778,\"#fb9f3a\"],[0.8888888888888888,\"#fdca26\"],[1.0,\"#f0f921\"]],\"type\":\"histogram2d\"}],\"histogram2dcontour\":[{\"colorbar\":{\"outlinewidth\":0,\"ticks\":\"\"},\"colorscale\":[[0.0,\"#0d0887\"],[0.1111111111111111,\"#46039f\"],[0.2222222222222222,\"#7201a8\"],[0.3333333333333333,\"#9c179e\"],[0.4444444444444444,\"#bd3786\"],[0.5555555555555556,\"#d8576b\"],[0.6666666666666666,\"#ed7953\"],[0.7777777777777778,\"#fb9f3a\"],[0.8888888888888888,\"#fdca26\"],[1.0,\"#f0f921\"]],\"type\":\"histogram2dcontour\"}],\"mesh3d\":[{\"colorbar\":{\"outlinewidth\":0,\"ticks\":\"\"},\"type\":\"mesh3d\"}],\"parcoords\":[{\"line\":{\"colorbar\":{\"outlinewidth\":0,\"ticks\":\"\"}},\"type\":\"parcoords\"}],\"pie\":[{\"automargin\":true,\"type\":\"pie\"}],\"scatter\":[{\"marker\":{\"colorbar\":{\"outlinewidth\":0,\"ticks\":\"\"}},\"type\":\"scatter\"}],\"scatter3d\":[{\"line\":{\"colorbar\":{\"outlinewidth\":0,\"ticks\":\"\"}},\"marker\":{\"colorbar\":{\"outlinewidth\":0,\"ticks\":\"\"}},\"type\":\"scatter3d\"}],\"scattercarpet\":[{\"marker\":{\"colorbar\":{\"outlinewidth\":0,\"ticks\":\"\"}},\"type\":\"scattercarpet\"}],\"scattergeo\":[{\"marker\":{\"colorbar\":{\"outlinewidth\":0,\"ticks\":\"\"}},\"type\":\"scattergeo\"}],\"scattergl\":[{\"marker\":{\"colorbar\":{\"outlinewidth\":0,\"ticks\":\"\"}},\"type\":\"scattergl\"}],\"scattermapbox\":[{\"marker\":{\"colorbar\":{\"outlinewidth\":0,\"ticks\":\"\"}},\"type\":\"scattermapbox\"}],\"scatterpolar\":[{\"marker\":{\"colorbar\":{\"outlinewidth\":0,\"ticks\":\"\"}},\"type\":\"scatterpolar\"}],\"scatterpolargl\":[{\"marker\":{\"colorbar\":{\"outlinewidth\":0,\"ticks\":\"\"}},\"type\":\"scatterpolargl\"}],\"scatterternary\":[{\"marker\":{\"colorbar\":{\"outlinewidth\":0,\"ticks\":\"\"}},\"type\":\"scatterternary\"}],\"surface\":[{\"colorbar\":{\"outlinewidth\":0,\"ticks\":\"\"},\"colorscale\":[[0.0,\"#0d0887\"],[0.1111111111111111,\"#46039f\"],[0.2222222222222222,\"#7201a8\"],[0.3333333333333333,\"#9c179e\"],[0.4444444444444444,\"#bd3786\"],[0.5555555555555556,\"#d8576b\"],[0.6666666666666666,\"#ed7953\"],[0.7777777777777778,\"#fb9f3a\"],[0.8888888888888888,\"#fdca26\"],[1.0,\"#f0f921\"]],\"type\":\"surface\"}],\"table\":[{\"cells\":{\"fill\":{\"color\":\"#EBF0F8\"},\"line\":{\"color\":\"white\"}},\"header\":{\"fill\":{\"color\":\"#C8D4E3\"},\"line\":{\"color\":\"white\"}},\"type\":\"table\"}]},\"layout\":{\"annotationdefaults\":{\"arrowcolor\":\"#2a3f5f\",\"arrowhead\":0,\"arrowwidth\":1},\"autotypenumbers\":\"strict\",\"coloraxis\":{\"colorbar\":{\"outlinewidth\":0,\"ticks\":\"\"}},\"colorscale\":{\"diverging\":[[0,\"#8e0152\"],[0.1,\"#c51b7d\"],[0.2,\"#de77ae\"],[0.3,\"#f1b6da\"],[0.4,\"#fde0ef\"],[0.5,\"#f7f7f7\"],[0.6,\"#e6f5d0\"],[0.7,\"#b8e186\"],[0.8,\"#7fbc41\"],[0.9,\"#4d9221\"],[1,\"#276419\"]],\"sequential\":[[0.0,\"#0d0887\"],[0.1111111111111111,\"#46039f\"],[0.2222222222222222,\"#7201a8\"],[0.3333333333333333,\"#9c179e\"],[0.4444444444444444,\"#bd3786\"],[0.5555555555555556,\"#d8576b\"],[0.6666666666666666,\"#ed7953\"],[0.7777777777777778,\"#fb9f3a\"],[0.8888888888888888,\"#fdca26\"],[1.0,\"#f0f921\"]],\"sequentialminus\":[[0.0,\"#0d0887\"],[0.1111111111111111,\"#46039f\"],[0.2222222222222222,\"#7201a8\"],[0.3333333333333333,\"#9c179e\"],[0.4444444444444444,\"#bd3786\"],[0.5555555555555556,\"#d8576b\"],[0.6666666666666666,\"#ed7953\"],[0.7777777777777778,\"#fb9f3a\"],[0.8888888888888888,\"#fdca26\"],[1.0,\"#f0f921\"]]},\"colorway\":[\"#636efa\",\"#EF553B\",\"#00cc96\",\"#ab63fa\",\"#FFA15A\",\"#19d3f3\",\"#FF6692\",\"#B6E880\",\"#FF97FF\",\"#FECB52\"],\"font\":{\"color\":\"#2a3f5f\"},\"geo\":{\"bgcolor\":\"white\",\"lakecolor\":\"white\",\"landcolor\":\"#E5ECF6\",\"showlakes\":true,\"showland\":true,\"subunitcolor\":\"white\"},\"hoverlabel\":{\"align\":\"left\"},\"hovermode\":\"closest\",\"mapbox\":{\"style\":\"light\"},\"paper_bgcolor\":\"white\",\"plot_bgcolor\":\"#E5ECF6\",\"polar\":{\"angularaxis\":{\"gridcolor\":\"white\",\"linecolor\":\"white\",\"ticks\":\"\"},\"bgcolor\":\"#E5ECF6\",\"radialaxis\":{\"gridcolor\":\"white\",\"linecolor\":\"white\",\"ticks\":\"\"}},\"scene\":{\"xaxis\":{\"backgroundcolor\":\"#E5ECF6\",\"gridcolor\":\"white\",\"gridwidth\":2,\"linecolor\":\"white\",\"showbackground\":true,\"ticks\":\"\",\"zerolinecolor\":\"white\"},\"yaxis\":{\"backgroundcolor\":\"#E5ECF6\",\"gridcolor\":\"white\",\"gridwidth\":2,\"linecolor\":\"white\",\"showbackground\":true,\"ticks\":\"\",\"zerolinecolor\":\"white\"},\"zaxis\":{\"backgroundcolor\":\"#E5ECF6\",\"gridcolor\":\"white\",\"gridwidth\":2,\"linecolor\":\"white\",\"showbackground\":true,\"ticks\":\"\",\"zerolinecolor\":\"white\"}},\"shapedefaults\":{\"line\":{\"color\":\"#2a3f5f\"}},\"ternary\":{\"aaxis\":{\"gridcolor\":\"white\",\"linecolor\":\"white\",\"ticks\":\"\"},\"baxis\":{\"gridcolor\":\"white\",\"linecolor\":\"white\",\"ticks\":\"\"},\"bgcolor\":\"#E5ECF6\",\"caxis\":{\"gridcolor\":\"white\",\"linecolor\":\"white\",\"ticks\":\"\"}},\"title\":{\"x\":0.05},\"xaxis\":{\"automargin\":true,\"gridcolor\":\"white\",\"linecolor\":\"white\",\"ticks\":\"\",\"title\":{\"standoff\":15},\"zerolinecolor\":\"white\",\"zerolinewidth\":2},\"yaxis\":{\"automargin\":true,\"gridcolor\":\"white\",\"linecolor\":\"white\",\"ticks\":\"\",\"title\":{\"standoff\":15},\"zerolinecolor\":\"white\",\"zerolinewidth\":2}}}},                        {\"responsive\": true}                    ).then(function(){\n",
       "                            \n",
       "var gd = document.getElementById('f86f2846-7aa1-478f-ada3-cf0f8ab767ce');\n",
       "var x = new MutationObserver(function (mutations, observer) {{\n",
       "        var display = window.getComputedStyle(gd).display;\n",
       "        if (!display || display === 'none') {{\n",
       "            console.log([gd, 'removed!']);\n",
       "            Plotly.purge(gd);\n",
       "            observer.disconnect();\n",
       "        }}\n",
       "}});\n",
       "\n",
       "// Listen for the removal of the full notebook cells\n",
       "var notebookContainer = gd.closest('#notebook-container');\n",
       "if (notebookContainer) {{\n",
       "    x.observe(notebookContainer, {childList: true});\n",
       "}}\n",
       "\n",
       "// Listen for the clearing of the current output cell\n",
       "var outputEl = gd.closest('.output');\n",
       "if (outputEl) {{\n",
       "    x.observe(outputEl, {childList: true});\n",
       "}}\n",
       "\n",
       "                        })                };                });            </script>        </div>"
      ]
     },
     "metadata": {},
     "output_type": "display_data"
    }
   ],
   "source": [
    "import plotly.graph_objs as go\n",
    "\n",
    "fig = go.Figure()\n",
    "for col in pos.columns:\n",
    "    fig.add_trace(go.Scatter(x=pos['date'], y=pos['id'],\n",
    "                             name = col,\n",
    "                             mode = 'markers+lines',\n",
    "                             line=dict(shape='linear'),\n",
    "                             connectgaps=True,\n",
    "                             line_color='green'\n",
    "                             )\n",
    "                 )\n",
    "\n",
    "for col in neg.columns:\n",
    "    fig.add_trace(go.Scatter(x=neg['date'], y=neg['id'],\n",
    "                             name = col,\n",
    "                             mode = 'markers+lines',\n",
    "                             line=dict(shape='linear'),\n",
    "                             connectgaps=True,\n",
    "                             line_color='red'\n",
    "                             )\n",
    "                 )\n",
    "fig.show()"
   ]
  },
  {
   "cell_type": "code",
   "execution_count": 49,
   "id": "726e1acd",
   "metadata": {},
   "outputs": [
    {
     "data": {
      "image/png": "[encoded data removed]",
      "text/plain": [
       "<Figure size 432x288 with 1 Axes>"
      ]
     },
     "metadata": {
      "needs_background": "light"
     },
     "output_type": "display_data"
    }
   ],
   "source": [
    "import matplotlib.pyplot as plt\n",
    "from wordcloud import WordCloud\n",
    "\n",
    "df['tweet_clean'] = df['tweet'].apply(cleaner)\n",
    "df2 = df[(df['date']>='2009-03-09') & (df['date']<='2022-03-19')]\n",
    "positive = df2[df2['sentiment_category']=='positive']\n",
    "wordcloud = WordCloud(max_font_size=50, max_words=500, background_color=\"white\").generate(str(positive['tweet_clean']))\n",
    "plt.figure()\n",
    "plt.imshow(wordcloud, interpolation=\"bilinear\")\n",
    "plt.axis(\"off\")\n",
    "plt.show()"
   ]
  },
  {
   "cell_type": "code",
   "execution_count": 50,
   "id": "4e091d7d",
   "metadata": {},
   "outputs": [
    {
     "data": {
      "image/png": "[encoded data removed]",
      "text/plain": [
       "<Figure size 432x288 with 1 Axes>"
      ]
     },
     "metadata": {
      "needs_background": "light"
     },
     "output_type": "display_data"
    }
   ],
   "source": [
    "\n",
    "df3 = df[(df['date']>='2009-03-09') & (df['date']<='2022-03-19')]\n",
    "negative = df3[df3['sentiment_category']=='negative']\n",
    "wordcloud = WordCloud(max_font_size=50, max_words=500, background_color=\"white\").generate(str(negative['tweet_clean']))\n",
    "plt.figure()\n",
    "plt.imshow(wordcloud, interpolation=\"bilinear\")\n",
    "plt.axis(\"off\")\n",
    "plt.show()"
   ]
  },
  {
   "cell_type": "code",
   "execution_count": null,
   "id": "46a06041",
   "metadata": {},
   "outputs": [],
   "source": []
  }
 ],
 "metadata": {
  "kernelspec": {
   "display_name": "Python 3 (ipykernel)",
   "language": "python",
   "name": "python3"
  },
  "language_info": {
   "codemirror_mode": {
    "name": "ipython",
    "version": 3
   },
   "file_extension": ".py",
   "mimetype": "text/x-python",
   "name": "python",
   "nbconvert_exporter": "python",
   "pygments_lexer": "ipython3",
   "version": "3.9.7"
  }
 },
 "nbformat": 4,
 "nbformat_minor": 5
}
